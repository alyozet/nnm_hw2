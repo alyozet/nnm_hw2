{
  "nbformat": 4,
  "nbformat_minor": 0,
  "metadata": {
    "colab": {
      "name": "NNM_hw2.ipynb",
      "provenance": [],
      "collapsed_sections": []
    },
    "kernelspec": {
      "name": "python3",
      "display_name": "Python 3"
    },
    "language_info": {
      "name": "python"
    },
    "accelerator": "GPU"
  },
  "cells": [
    {
      "cell_type": "markdown",
      "source": [
        "### Домашнее задание 2\n",
        "\n",
        "пока можете прокручивать."
      ],
      "metadata": {
        "id": "JuH-K861GZuV"
      }
    },
    {
      "cell_type": "code",
      "execution_count": 1,
      "metadata": {
        "colab": {
          "base_uri": "https://localhost:8080/"
        },
        "id": "0HvzpiYWyQNZ",
        "outputId": "e4f6af9b-e8f7-4855-fcdf-5a22605a4a1b"
      },
      "outputs": [
        {
          "output_type": "stream",
          "name": "stdout",
          "text": [
            "\u001b[K     |████████████████████████████████| 791 kB 11.5 MB/s \n",
            "\u001b[K     |████████████████████████████████| 374 kB 50.7 MB/s \n",
            "\u001b[?25h  Building wheel for ipdb (setup.py) ... \u001b[?25l\u001b[?25hdone\n",
            "\u001b[31mERROR: pip's dependency resolver does not currently take into account all the packages that are installed. This behaviour is the source of the following dependency conflicts.\n",
            "jupyter-console 5.2.0 requires prompt-toolkit<2.0.0,>=1.0.0, but you have prompt-toolkit 3.0.24 which is incompatible.\n",
            "google-colab 1.0.0 requires ipython~=5.5.0, but you have ipython 7.30.1 which is incompatible.\u001b[0m\n"
          ]
        }
      ],
      "source": [
        "!pip install -q ipdb"
      ]
    },
    {
      "cell_type": "code",
      "source": [
        "!pip install -q torchmetrics"
      ],
      "metadata": {
        "colab": {
          "base_uri": "https://localhost:8080/"
        },
        "id": "4If0De0n9OpP",
        "outputId": "1b897432-2d3e-431e-e22e-0ed484d63545"
      },
      "execution_count": 2,
      "outputs": [
        {
          "output_type": "stream",
          "name": "stdout",
          "text": [
            "\u001b[?25l\r\u001b[K     |█                               | 10 kB 22.3 MB/s eta 0:00:01\r\u001b[K     |██                              | 20 kB 27.9 MB/s eta 0:00:01\r\u001b[K     |███                             | 30 kB 22.0 MB/s eta 0:00:01\r\u001b[K     |████                            | 40 kB 17.5 MB/s eta 0:00:01\r\u001b[K     |█████                           | 51 kB 15.4 MB/s eta 0:00:01\r\u001b[K     |██████                          | 61 kB 13.1 MB/s eta 0:00:01\r\u001b[K     |███████                         | 71 kB 12.7 MB/s eta 0:00:01\r\u001b[K     |███████▉                        | 81 kB 13.6 MB/s eta 0:00:01\r\u001b[K     |████████▉                       | 92 kB 14.2 MB/s eta 0:00:01\r\u001b[K     |█████████▉                      | 102 kB 11.3 MB/s eta 0:00:01\r\u001b[K     |██████████▉                     | 112 kB 11.3 MB/s eta 0:00:01\r\u001b[K     |███████████▉                    | 122 kB 11.3 MB/s eta 0:00:01\r\u001b[K     |████████████▉                   | 133 kB 11.3 MB/s eta 0:00:01\r\u001b[K     |█████████████▉                  | 143 kB 11.3 MB/s eta 0:00:01\r\u001b[K     |██████████████▉                 | 153 kB 11.3 MB/s eta 0:00:01\r\u001b[K     |███████████████▊                | 163 kB 11.3 MB/s eta 0:00:01\r\u001b[K     |████████████████▊               | 174 kB 11.3 MB/s eta 0:00:01\r\u001b[K     |█████████████████▊              | 184 kB 11.3 MB/s eta 0:00:01\r\u001b[K     |██████████████████▊             | 194 kB 11.3 MB/s eta 0:00:01\r\u001b[K     |███████████████████▊            | 204 kB 11.3 MB/s eta 0:00:01\r\u001b[K     |████████████████████▊           | 215 kB 11.3 MB/s eta 0:00:01\r\u001b[K     |█████████████████████▊          | 225 kB 11.3 MB/s eta 0:00:01\r\u001b[K     |██████████████████████▊         | 235 kB 11.3 MB/s eta 0:00:01\r\u001b[K     |███████████████████████▋        | 245 kB 11.3 MB/s eta 0:00:01\r\u001b[K     |████████████████████████▋       | 256 kB 11.3 MB/s eta 0:00:01\r\u001b[K     |█████████████████████████▋      | 266 kB 11.3 MB/s eta 0:00:01\r\u001b[K     |██████████████████████████▋     | 276 kB 11.3 MB/s eta 0:00:01\r\u001b[K     |███████████████████████████▋    | 286 kB 11.3 MB/s eta 0:00:01\r\u001b[K     |████████████████████████████▋   | 296 kB 11.3 MB/s eta 0:00:01\r\u001b[K     |█████████████████████████████▋  | 307 kB 11.3 MB/s eta 0:00:01\r\u001b[K     |██████████████████████████████▌ | 317 kB 11.3 MB/s eta 0:00:01\r\u001b[K     |███████████████████████████████▌| 327 kB 11.3 MB/s eta 0:00:01\r\u001b[K     |████████████████████████████████| 332 kB 11.3 MB/s \n",
            "\u001b[?25h"
          ]
        }
      ]
    },
    {
      "cell_type": "code",
      "source": [
        "import pandas as pd\n",
        "import numpy as np\n",
        "from string import punctuation\n",
        "from collections import Counter\n",
        "\n",
        "from sklearn.model_selection import train_test_split\n",
        "from sklearn.utils import shuffle\n",
        "\n",
        "import torch.nn as nn\n",
        "import torch.nn.functional as F\n",
        "from torch.utils.data import Dataset, DataLoader, RandomSampler, SequentialSampler\n",
        "from torch.nn.utils.rnn import pad_sequence\n",
        "import torch.optim as optim\n",
        "import ipdb"
      ],
      "metadata": {
        "id": "yGvAztG7yTx-"
      },
      "execution_count": 3,
      "outputs": []
    },
    {
      "cell_type": "code",
      "source": [
        "import pandas as pd\n",
        "import numpy as np\n",
        "from string import punctuation\n",
        "from collections import Counter\n",
        "\n",
        "from sklearn.model_selection import train_test_split\n",
        "from sklearn.utils import shuffle\n",
        "import torch.nn as nn\n",
        "import torch.nn.functional as F\n",
        "from torch.utils.data import Dataset, DataLoader, RandomSampler, SequentialSampler\n",
        "from torch.nn.utils.rnn import pad_sequence\n",
        "import torch.optim as optim\n",
        "from torchmetrics import F1\n",
        "from torchmetrics.functional import f1, recall\n",
        "import ipdb"
      ],
      "metadata": {
        "id": "Vu3fQ2gt9HKe"
      },
      "execution_count": 4,
      "outputs": []
    },
    {
      "cell_type": "code",
      "source": [
        "import torch"
      ],
      "metadata": {
        "id": "53Qiz0PwgVlY"
      },
      "execution_count": 5,
      "outputs": []
    },
    {
      "cell_type": "markdown",
      "source": [
        "Начинаем: скачиваем файлы, делаем датафреймы, делим на тест и трейн, препроцессим, создаем на будущее словари.."
      ],
      "metadata": {
        "id": "sgaZYnrXGkpA"
      }
    },
    {
      "cell_type": "code",
      "source": [
        "pos_tweets = pd.read_csv('positive.csv', encoding='utf-8', sep=';', header=None,  names=[0,1,2,'text','tone',5,6,7,8,9,10,11])\n",
        "neg_tweets = pd.read_csv('negative.csv', encoding='utf-8', sep=';', header=None, names=[0,1,2,'text','tone',5,6,7,8,9,10,11] )\n",
        "neg_tweets['tone'] = 0\n",
        "all_tweets_data = pos_tweets.append(neg_tweets)\n",
        "print(len(all_tweets_data))"
      ],
      "metadata": {
        "colab": {
          "base_uri": "https://localhost:8080/"
        },
        "id": "bso0a8kNyjQD",
        "outputId": "5bde55a4-d767-461b-baff-72723150965a"
      },
      "execution_count": 6,
      "outputs": [
        {
          "output_type": "stream",
          "name": "stdout",
          "text": [
            "226834\n"
          ]
        }
      ]
    },
    {
      "cell_type": "code",
      "source": [
        "tweets_data = shuffle(all_tweets_data[['text','tone']])[:100000]"
      ],
      "metadata": {
        "id": "TJS-lBPfzmXL"
      },
      "execution_count": 7,
      "outputs": []
    },
    {
      "cell_type": "code",
      "source": [
        "train_sentences, val_sentences = train_test_split(tweets_data, test_size=0.1)"
      ],
      "metadata": {
        "id": "Ca5PKd28z5uW"
      },
      "execution_count": 8,
      "outputs": []
    },
    {
      "cell_type": "code",
      "source": [
        "train_sentences[:10]\n"
      ],
      "metadata": {
        "colab": {
          "base_uri": "https://localhost:8080/",
          "height": 363
        },
        "id": "02S3ugmvz8Gx",
        "outputId": "87969108-8064-4557-d4c5-6cc0c8dff6d9"
      },
      "execution_count": 9,
      "outputs": [
        {
          "output_type": "execute_result",
          "data": {
            "text/html": [
              "<div>\n",
              "<style scoped>\n",
              "    .dataframe tbody tr th:only-of-type {\n",
              "        vertical-align: middle;\n",
              "    }\n",
              "\n",
              "    .dataframe tbody tr th {\n",
              "        vertical-align: top;\n",
              "    }\n",
              "\n",
              "    .dataframe thead th {\n",
              "        text-align: right;\n",
              "    }\n",
              "</style>\n",
              "<table border=\"1\" class=\"dataframe\">\n",
              "  <thead>\n",
              "    <tr style=\"text-align: right;\">\n",
              "      <th></th>\n",
              "      <th>text</th>\n",
              "      <th>tone</th>\n",
              "    </tr>\n",
              "  </thead>\n",
              "  <tbody>\n",
              "    <tr>\n",
              "      <th>82217</th>\n",
              "      <td>@De_nativo Будем считать что красные яблочки и...</td>\n",
              "      <td>1</td>\n",
              "    </tr>\n",
              "    <tr>\n",
              "      <th>74458</th>\n",
              "      <td>В том, что это может быть провокация, я не в о...</td>\n",
              "      <td>1</td>\n",
              "    </tr>\n",
              "    <tr>\n",
              "      <th>34731</th>\n",
              "      <td>RT @silver_xenia: температура( совсем плохо</td>\n",
              "      <td>0</td>\n",
              "    </tr>\n",
              "    <tr>\n",
              "      <th>27934</th>\n",
              "      <td>@sassy_lolz да ведь не за что)\\nэто просто мне...</td>\n",
              "      <td>1</td>\n",
              "    </tr>\n",
              "    <tr>\n",
              "      <th>19779</th>\n",
              "      <td>@vesti_kpss из некогда монстров разве что Уотр...</td>\n",
              "      <td>0</td>\n",
              "    </tr>\n",
              "    <tr>\n",
              "      <th>49064</th>\n",
              "      <td>RT @VmesteCitations: Ну праааавда(( http://t.c...</td>\n",
              "      <td>0</td>\n",
              "    </tr>\n",
              "    <tr>\n",
              "      <th>36093</th>\n",
              "      <td>\"только похоже я одна его буду пить, потому чт...</td>\n",
              "      <td>1</td>\n",
              "    </tr>\n",
              "    <tr>\n",
              "      <th>72278</th>\n",
              "      <td>Ахаха\\nСаша блин.\\nКак всегда.\\nПросто иди нах...</td>\n",
              "      <td>1</td>\n",
              "    </tr>\n",
              "    <tr>\n",
              "      <th>4151</th>\n",
              "      <td>RT @pedazyzuvab: Да... Давно сердце не болело....</td>\n",
              "      <td>0</td>\n",
              "    </tr>\n",
              "    <tr>\n",
              "      <th>77970</th>\n",
              "      <td>@sport_by если команда так решила,значит им ви...</td>\n",
              "      <td>1</td>\n",
              "    </tr>\n",
              "  </tbody>\n",
              "</table>\n",
              "</div>"
            ],
            "text/plain": [
              "                                                    text  tone\n",
              "82217  @De_nativo Будем считать что красные яблочки и...     1\n",
              "74458  В том, что это может быть провокация, я не в о...     1\n",
              "34731        RT @silver_xenia: температура( совсем плохо     0\n",
              "27934  @sassy_lolz да ведь не за что)\\nэто просто мне...     1\n",
              "19779  @vesti_kpss из некогда монстров разве что Уотр...     0\n",
              "49064  RT @VmesteCitations: Ну праааавда(( http://t.c...     0\n",
              "36093  \"только похоже я одна его буду пить, потому чт...     1\n",
              "72278  Ахаха\\nСаша блин.\\nКак всегда.\\nПросто иди нах...     1\n",
              "4151   RT @pedazyzuvab: Да... Давно сердце не болело....     0\n",
              "77970  @sport_by если команда так решила,значит им ви...     1"
            ]
          },
          "metadata": {},
          "execution_count": 9
        }
      ]
    },
    {
      "cell_type": "code",
      "source": [
        "def preprocess(text):\n",
        "    tokens = text.lower().split()\n",
        "    tokens = [token.strip(punctuation) for token in tokens]\n",
        "    return tokens"
      ],
      "metadata": {
        "id": "OMYAGY8c0ZoR"
      },
      "execution_count": 10,
      "outputs": []
    },
    {
      "cell_type": "code",
      "source": [
        "vocab = Counter()\n",
        "\n",
        "for text in tweets_data['text']:\n",
        "    vocab.update(preprocess(text))\n",
        "print('всего уникальных токенов:', len(vocab))"
      ],
      "metadata": {
        "colab": {
          "base_uri": "https://localhost:8080/"
        },
        "id": "HBJdGKIo0cqC",
        "outputId": "9c1484e1-ce2e-48c6-ff15-428fa144f64d"
      },
      "execution_count": 11,
      "outputs": [
        {
          "output_type": "stream",
          "name": "stdout",
          "text": [
            "всего уникальных токенов: 202880\n"
          ]
        }
      ]
    },
    {
      "cell_type": "code",
      "source": [
        "filtered_vocab = set()\n",
        "\n",
        "for word in vocab:\n",
        "    if vocab[word] > 2:\n",
        "        filtered_vocab.add(word)\n",
        "print('уникальных токенов, втретившихся больше 2 раз:', len(filtered_vocab))"
      ],
      "metadata": {
        "colab": {
          "base_uri": "https://localhost:8080/"
        },
        "id": "6ebgrN1n0eiD",
        "outputId": "e5ea4dcf-a9a1-4527-be2e-beb3a7cfabe6"
      },
      "execution_count": 12,
      "outputs": [
        {
          "output_type": "stream",
          "name": "stdout",
          "text": [
            "уникальных токенов, втретившихся больше 2 раз: 32444\n"
          ]
        }
      ]
    },
    {
      "cell_type": "code",
      "source": [
        "word2id = {'PAD':0}\n",
        "\n",
        "for word in filtered_vocab:\n",
        "    word2id[word] = len(word2id)"
      ],
      "metadata": {
        "id": "h_kVQ_W40hAG"
      },
      "execution_count": 13,
      "outputs": []
    },
    {
      "cell_type": "markdown",
      "source": [
        "Начинаем притрагиваться к нейросетям."
      ],
      "metadata": {
        "id": "zClBOf7pG8D1"
      }
    },
    {
      "cell_type": "code",
      "source": [
        "id2word = {i:word for word, i in word2id.items()}"
      ],
      "metadata": {
        "id": "Bg7ns6pI0m1c"
      },
      "execution_count": 14,
      "outputs": []
    },
    {
      "cell_type": "code",
      "source": [
        "DEVICE = torch.device('cuda') if torch.cuda.is_available() else torch.device('cpu')\n",
        "DEVICE"
      ],
      "metadata": {
        "colab": {
          "base_uri": "https://localhost:8080/"
        },
        "id": "1XMCwBrm0njJ",
        "outputId": "1369cf15-17c1-4e5c-a03b-e6771550be8b"
      },
      "execution_count": 65,
      "outputs": [
        {
          "output_type": "execute_result",
          "data": {
            "text/plain": [
              "device(type='cuda')"
            ]
          },
          "metadata": {},
          "execution_count": 65
        }
      ]
    },
    {
      "cell_type": "code",
      "source": [
        "class TweetsDataset(Dataset):\n",
        "\n",
        "    def __init__(self, dataset, word2id, DEVICE):\n",
        "        self.dataset = dataset['text'].values\n",
        "        self.word2id = word2id\n",
        "        self.length = dataset.shape[0]\n",
        "        self.target = dataset['tone'].values\n",
        "        self.device = DEVICE\n",
        "\n",
        "    def __len__(self): \n",
        "        return self.length\n",
        "\n",
        "    def __getitem__(self, index): \n",
        "        tokens = self.preprocess(self.dataset[index]) \n",
        "        ids = torch.LongTensor([self.word2id[token] for token in tokens if token in self.word2id])\n",
        "        y = [self.target[index]]\n",
        "        return ids, y\n",
        "    \n",
        "    def preprocess(self, text):\n",
        "        tokens = text.lower().split()\n",
        "        tokens = [token.strip(punctuation) for token in tokens]\n",
        "        tokens = [token for token in tokens if token]\n",
        "        return tokens\n",
        "\n",
        "    def collate_fn(self, batch):\n",
        "      ids, y = list(zip(*batch))\n",
        "      padded_ids = pad_sequence(ids, batch_first=True).to(self.device)\n",
        "      y = torch.Tensor(y).to(self.device)\n",
        "      return padded_ids, y"
      ],
      "metadata": {
        "id": "ESsuf5ga0_eR"
      },
      "execution_count": 66,
      "outputs": []
    },
    {
      "cell_type": "code",
      "source": [
        "train_dataset = TweetsDataset(train_sentences, word2id, DEVICE)\n",
        "train_sampler = RandomSampler(train_dataset)\n",
        "train_iterator = DataLoader(train_dataset, collate_fn = train_dataset.collate_fn, sampler=train_sampler, batch_size=1024)"
      ],
      "metadata": {
        "id": "TNVNNBbg1NDk"
      },
      "execution_count": 67,
      "outputs": []
    },
    {
      "cell_type": "code",
      "source": [
        "val_dataset = TweetsDataset(val_sentences, word2id, DEVICE)\n",
        "val_sampler = SequentialSampler(val_dataset)\n",
        "val_iterator = DataLoader(val_dataset, collate_fn = val_dataset.collate_fn, sampler=val_sampler, batch_size=1024)"
      ],
      "metadata": {
        "id": "jYM31nN01WC8"
      },
      "execution_count": 68,
      "outputs": []
    },
    {
      "cell_type": "code",
      "source": [
        "class CNN0(nn.Module):\n",
        "    \n",
        "    def __init__(self, vocab_size, embedding_dim):\n",
        "        super().__init__()\n",
        "        self.embedding = nn.Embedding(vocab_size, embedding_dim)\n",
        "        self.bigrams = nn.Conv1d(in_channels=embedding_dim, out_channels=100, kernel_size=2, padding='same')\n",
        "        self.trigrams = nn.Conv1d(in_channels=embedding_dim, out_channels=80, kernel_size=3, padding='same')\n",
        "        self.svertka = nn.Conv1d(in_channels=180, out_channels=180, kernel_size=3, padding='same')\n",
        "        self.pooling = nn.MaxPool1d(kernel_size=2, stride=2)\n",
        "        self.relu = nn.ReLU()\n",
        "        self.hidden = nn.Linear(in_features=180, out_features=1)\n",
        "        self.dropout = nn.Dropout(p=0.5)\n",
        "        self.out = nn.Sigmoid()\n",
        "\n",
        "    def forward(self, word):\n",
        "        embedded = self.embedding(word) # эмбеддинги\n",
        "        embedded = embedded.transpose(1,2)\n",
        "        feature_map_bigrams = self.bigrams(embedded) # свертка первая\n",
        "        feature_map_trigrams = self.trigrams(embedded) # свертка вторая\n",
        "        concat1 = torch.cat((feature_map_bigrams, feature_map_trigrams), 1) # конкатенируем\n",
        "        sv = self.pooling(self.svertka(concat1))\n",
        "        pooling0 = sv.max(2)[0] # макспулинг\n",
        "        \n",
        "        logits = self.hidden(pooling0) #линейный\n",
        "        logits = self.out(logits)  # сигмоида    \n",
        "        return logits"
      ],
      "metadata": {
        "id": "0eb_KvRyuRuZ"
      },
      "execution_count": 69,
      "outputs": []
    },
    {
      "cell_type": "code",
      "source": [
        "def train(model, iterator, optimizer, criterion):\n",
        "    epoch_loss = 0 \n",
        "\n",
        "    model.train()  \n",
        "\n",
        "    for i, (texts, ys) in enumerate(iterator): \n",
        "        optimizer.zero_grad() \n",
        "        preds = model(texts)  \n",
        "        loss = criterion(preds, ys)   \n",
        "        loss.backward()   \n",
        "        optimizer.step() \n",
        "        epoch_loss += loss.item() \n",
        "        if not (i + 1) % int(len(iterator)/5):\n",
        "            print(f'Train loss: {epoch_loss/i}')      \n",
        "    return  epoch_loss / len(iterator) "
      ],
      "metadata": {
        "id": "Ny42uIw58h7j"
      },
      "execution_count": 70,
      "outputs": []
    },
    {
      "cell_type": "code",
      "source": [
        "def evaluate(model, iterator, criterion):\n",
        "    epoch_loss = 0\n",
        "    epoch_metric = 0\n",
        "    model.eval() \n",
        "    with torch.no_grad():\n",
        "        for i, (texts, ys) in enumerate(iterator):   \n",
        "            preds = model(texts)  \n",
        "            loss = criterion(preds, ys)  \n",
        "            epoch_loss += loss.item()\n",
        "            batch_metric = f1(preds.round().long(), ys.long(), ignore_index=0)\n",
        "            epoch_metric += batch_metric\n",
        "\n",
        "            if not (i + 1) % int(len(iterator)/5):\n",
        "              print(f'Val loss: {epoch_loss/(i+1)}, Val f1: {epoch_metric/(i+1)}')\n",
        "        \n",
        "    return epoch_metric / len(iterator), epoch_loss / len(iterator) "
      ],
      "metadata": {
        "id": "Ipm2WLQ88lLz"
      },
      "execution_count": 71,
      "outputs": []
    },
    {
      "cell_type": "code",
      "source": [
        "model0 = CNN0(len(word2id), 100)\n",
        "optimizer = optim.Adam(model0.parameters(), lr=0.0005)\n",
        "criterion = nn.BCELoss()  \n",
        "\n",
        "model0 = model0.to(DEVICE)\n",
        "criterion = criterion.to(DEVICE)"
      ],
      "metadata": {
        "id": "YgaSlB7uucsd"
      },
      "execution_count": 72,
      "outputs": []
    },
    {
      "cell_type": "code",
      "source": [
        "losses = []\n",
        "losses_eval = []\n",
        "f1s = []\n",
        "f1s_eval = []\n",
        "\n",
        "for i in range(10):\n",
        "    print(f'\\nstarting Epoch {i}')\n",
        "    print('Training...')\n",
        "    epoch_loss = train(model0, train_iterator, optimizer, criterion)\n",
        "    losses.append(epoch_loss)\n",
        "    print('\\nEvaluating on train...')\n",
        "    f1_on_train,_ = evaluate(model0, train_iterator, criterion)\n",
        "    f1s.append(f1_on_train)\n",
        "    print('\\nEvaluating on test...')\n",
        "    f1_on_test, epoch_loss_on_test = evaluate(model0, val_iterator, criterion)\n",
        "    losses_eval.append(epoch_loss_on_test)\n",
        "    f1s_eval.append(f1_on_test)"
      ],
      "metadata": {
        "colab": {
          "base_uri": "https://localhost:8080/"
        },
        "id": "MB8F5Wy-utLt",
        "outputId": "2907c8dd-4fea-4244-f708-2d819dedc26f"
      },
      "execution_count": 73,
      "outputs": [
        {
          "output_type": "stream",
          "name": "stdout",
          "text": [
            "\n",
            "starting Epoch 0\n",
            "Training...\n",
            "Train loss: 0.7146475538611412\n",
            "Train loss: 0.6799866448749196\n",
            "Train loss: 0.663764420747757\n",
            "Train loss: 0.6528879154973956\n",
            "Train loss: 0.645861240369933\n",
            "\n",
            "Evaluating on train...\n",
            "Val loss: 0.5946033000946045, Val f1: 0.6676478385925293\n",
            "Val loss: 0.595921961700215, Val f1: 0.6654272079467773\n",
            "Val loss: 0.5962702690386305, Val f1: 0.6665107607841492\n",
            "Val loss: 0.5959943795905394, Val f1: 0.6674714684486389\n",
            "Val loss: 0.596836397227119, Val f1: 0.6658844351768494\n",
            "\n",
            "Evaluating on test...\n",
            "Val loss: 0.6090579032897949, Val f1: 0.645500898361206\n",
            "Val loss: 0.6073446124792099, Val f1: 0.6486740112304688\n",
            "Val loss: 0.6082810461521149, Val f1: 0.6483373641967773\n",
            "Val loss: 0.6083066537976265, Val f1: 0.6477082967758179\n",
            "Val loss: 0.6088057637214661, Val f1: 0.6511055827140808\n",
            "\n",
            "starting Epoch 1\n",
            "Training...\n",
            "Train loss: 0.6325365677475929\n",
            "Train loss: 0.6108519471052921\n",
            "Train loss: 0.6020670986175537\n",
            "Train loss: 0.5968398398427821\n",
            "Train loss: 0.5932337471417019\n",
            "\n",
            "Evaluating on train...\n",
            "Val loss: 0.5525272769086501, Val f1: 0.7221663594245911\n",
            "Val loss: 0.5514400916941026, Val f1: 0.724207878112793\n",
            "Val loss: 0.5527607599894205, Val f1: 0.7230679392814636\n",
            "Val loss: 0.5535342228763244, Val f1: 0.7214952707290649\n",
            "Val loss: 0.5530302952317631, Val f1: 0.7218640446662903\n",
            "\n",
            "Evaluating on test...\n",
            "Val loss: 0.5847654640674591, Val f1: 0.6808716058731079\n",
            "Val loss: 0.5818209052085876, Val f1: 0.6858897805213928\n",
            "Val loss: 0.5817465285460154, Val f1: 0.6805243492126465\n",
            "Val loss: 0.5829206928610802, Val f1: 0.6782775521278381\n",
            "Val loss: 0.5831689357757568, Val f1: 0.6825894117355347\n",
            "\n",
            "starting Epoch 2\n",
            "Training...\n",
            "Train loss: 0.5869550742208958\n",
            "Train loss: 0.565968520713575\n",
            "Train loss: 0.5583013451099396\n",
            "Train loss: 0.555829052604846\n",
            "Train loss: 0.552958546649842\n",
            "\n",
            "Evaluating on train...\n",
            "Val loss: 0.5159831187304329, Val f1: 0.7544875741004944\n",
            "Val loss: 0.5133438005166895, Val f1: 0.7548568248748779\n",
            "Val loss: 0.5129914301283219, Val f1: 0.7564271688461304\n",
            "Val loss: 0.5122740974321085, Val f1: 0.7581831812858582\n",
            "Val loss: 0.5126644807703354, Val f1: 0.757878839969635\n",
            "\n",
            "Evaluating on test...\n",
            "Val loss: 0.5696487128734589, Val f1: 0.6923531293869019\n",
            "Val loss: 0.5651665180921555, Val f1: 0.6986316442489624\n",
            "Val loss: 0.5647997558116913, Val f1: 0.6976382732391357\n",
            "Val loss: 0.5668591558933258, Val f1: 0.6951267719268799\n",
            "Val loss: 0.5667487442493438, Val f1: 0.6996831297874451\n",
            "\n",
            "starting Epoch 3\n",
            "Training...\n",
            "Train loss: 0.5461583714932203\n",
            "Train loss: 0.5273133967861985\n",
            "Train loss: 0.5202417546510696\n",
            "Train loss: 0.5153433035558729\n",
            "Train loss: 0.5145857905348142\n",
            "\n",
            "Evaluating on train...\n",
            "Val loss: 0.4816733914263108, Val f1: 0.7877795696258545\n",
            "Val loss: 0.4783477607895346, Val f1: 0.793422281742096\n",
            "Val loss: 0.4773287773132324, Val f1: 0.7952761650085449\n",
            "Val loss: 0.4779432087260134, Val f1: 0.794783353805542\n",
            "Val loss: 0.4780038910753587, Val f1: 0.7949550747871399\n",
            "\n",
            "Evaluating on test...\n",
            "Val loss: 0.5623612105846405, Val f1: 0.7240554094314575\n",
            "Val loss: 0.5591804832220078, Val f1: 0.726996898651123\n",
            "Val loss: 0.559686928987503, Val f1: 0.7213858962059021\n",
            "Val loss: 0.5621780827641487, Val f1: 0.7191027998924255\n",
            "Val loss: 0.5613980531692505, Val f1: 0.7223030924797058\n",
            "\n",
            "starting Epoch 4\n",
            "Training...\n",
            "Train loss: 0.4985580574721098\n",
            "Train loss: 0.48442007917346375\n",
            "Train loss: 0.4800966089963913\n",
            "Train loss: 0.47732539630647913\n",
            "Train loss: 0.47726639040878843\n",
            "\n",
            "Evaluating on train...\n",
            "Val loss: 0.4268480030929341, Val f1: 0.8128279447555542\n",
            "Val loss: 0.4295266743968515, Val f1: 0.8120254278182983\n",
            "Val loss: 0.43079648181503893, Val f1: 0.8109875917434692\n",
            "Val loss: 0.4314031118855757, Val f1: 0.8108595013618469\n",
            "Val loss: 0.4319675080916461, Val f1: 0.8115401268005371\n",
            "\n",
            "Evaluating on test...\n",
            "Val loss: 0.5448855757713318, Val f1: 0.715603232383728\n",
            "Val loss: 0.5418744832277298, Val f1: 0.7173898220062256\n",
            "Val loss: 0.5434527198473612, Val f1: 0.7138389348983765\n",
            "Val loss: 0.5481147393584251, Val f1: 0.7095637321472168\n",
            "Val loss: 0.5480912983417511, Val f1: 0.7122913599014282\n",
            "\n",
            "starting Epoch 5\n",
            "Training...\n",
            "Train loss: 0.45706474781036377\n",
            "Train loss: 0.4465441523176251\n",
            "Train loss: 0.442280136346817\n",
            "Train loss: 0.44072817733038716\n",
            "Train loss: 0.4402694230278333\n",
            "\n",
            "Evaluating on train...\n",
            "Val loss: 0.39212270168697133, Val f1: 0.8340278267860413\n",
            "Val loss: 0.39399126084411845, Val f1: 0.8313688039779663\n",
            "Val loss: 0.3960131231476279, Val f1: 0.829388439655304\n",
            "Val loss: 0.39770054598064986, Val f1: 0.8273674845695496\n",
            "Val loss: 0.39762272238731383, Val f1: 0.8273982405662537\n",
            "\n",
            "Evaluating on test...\n",
            "Val loss: 0.5445257723331451, Val f1: 0.7136507034301758\n",
            "Val loss: 0.5421673059463501, Val f1: 0.7123258113861084\n",
            "Val loss: 0.5448100169499716, Val f1: 0.7057477831840515\n",
            "Val loss: 0.5501531660556793, Val f1: 0.702855110168457\n",
            "Val loss: 0.5512774288654327, Val f1: 0.7046256065368652\n",
            "\n",
            "starting Epoch 6\n",
            "Training...\n",
            "Train loss: 0.41912529431283474\n",
            "Train loss: 0.4092951543403394\n",
            "Train loss: 0.40504463136196134\n",
            "Train loss: 0.4033358261656405\n",
            "Train loss: 0.4034458114987328\n",
            "\n",
            "Evaluating on train...\n",
            "Val loss: 0.35692330318338733, Val f1: 0.8629164099693298\n",
            "Val loss: 0.35944895446300507, Val f1: 0.8600723147392273\n",
            "Val loss: 0.3613131636498021, Val f1: 0.8597986698150635\n",
            "Val loss: 0.36127450623933005, Val f1: 0.8589917421340942\n",
            "Val loss: 0.3613185283015756, Val f1: 0.858970046043396\n",
            "\n",
            "Evaluating on test...\n",
            "Val loss: 0.5572319328784943, Val f1: 0.7277289628982544\n",
            "Val loss: 0.5580170452594757, Val f1: 0.7318238615989685\n",
            "Val loss: 0.5556872487068176, Val f1: 0.7299412488937378\n",
            "Val loss: 0.5607059523463249, Val f1: 0.7269816994667053\n",
            "Val loss: 0.5598369002342224, Val f1: 0.7290403246879578\n",
            "\n",
            "starting Epoch 7\n",
            "Training...\n",
            "Train loss: 0.3838757574558258\n",
            "Train loss: 0.37250401666670135\n",
            "Train loss: 0.3704295271635056\n",
            "Train loss: 0.36865626609147484\n",
            "Train loss: 0.3678819444917497\n",
            "\n",
            "Evaluating on train...\n",
            "Val loss: 0.3232482899637783, Val f1: 0.8775351643562317\n",
            "Val loss: 0.32147133175064535, Val f1: 0.877843976020813\n",
            "Val loss: 0.3206627222837186, Val f1: 0.8773654699325562\n",
            "Val loss: 0.3219459306667833, Val f1: 0.8769329786300659\n",
            "Val loss: 0.32120675479664523, Val f1: 0.8772315979003906\n",
            "\n",
            "Evaluating on test...\n",
            "Val loss: 0.5565357208251953, Val f1: 0.7106199264526367\n",
            "Val loss: 0.5559398382902145, Val f1: 0.7162029147148132\n",
            "Val loss: 0.5577746033668518, Val f1: 0.7133259177207947\n",
            "Val loss: 0.5632888749241829, Val f1: 0.7114084959030151\n",
            "Val loss: 0.5641269207000732, Val f1: 0.7116472721099854\n",
            "\n",
            "starting Epoch 8\n",
            "Training...\n",
            "Train loss: 0.3388756085187197\n",
            "Train loss: 0.333048321984031\n",
            "Train loss: 0.3309313452243805\n",
            "Train loss: 0.3318932563511293\n",
            "Train loss: 0.33170372389611746\n",
            "\n",
            "Evaluating on train...\n",
            "Val loss: 0.28840557967915254, Val f1: 0.8992452025413513\n",
            "Val loss: 0.28606366672936606, Val f1: 0.9010804295539856\n",
            "Val loss: 0.2851834384834065, Val f1: 0.9016971588134766\n",
            "Val loss: 0.28559330850839615, Val f1: 0.9008380770683289\n",
            "Val loss: 0.2860704730538761, Val f1: 0.900691032409668\n",
            "\n",
            "Evaluating on test...\n",
            "Val loss: 0.564576655626297, Val f1: 0.7171415090560913\n",
            "Val loss: 0.564617931842804, Val f1: 0.7241339683532715\n",
            "Val loss: 0.5670163830121359, Val f1: 0.7214159369468689\n",
            "Val loss: 0.5726621001958847, Val f1: 0.719887912273407\n",
            "Val loss: 0.5724682867527008, Val f1: 0.7197409868240356\n",
            "\n",
            "starting Epoch 9\n",
            "Training...\n",
            "Train loss: 0.30219376273453236\n",
            "Train loss: 0.2959981154311787\n",
            "Train loss: 0.2966821086406708\n",
            "Train loss: 0.2976246405003676\n",
            "Train loss: 0.29860614453043255\n",
            "\n",
            "Evaluating on train...\n",
            "Val loss: 0.2538822933154948, Val f1: 0.9144803881645203\n",
            "Val loss: 0.25147125913816337, Val f1: 0.9174394607543945\n",
            "Val loss: 0.2518880110160977, Val f1: 0.9171382188796997\n",
            "Val loss: 0.25136516769142714, Val f1: 0.9173219799995422\n",
            "Val loss: 0.2517943000092226, Val f1: 0.917422890663147\n",
            "\n",
            "Evaluating on test...\n",
            "Val loss: 0.5803734660148621, Val f1: 0.7215807437896729\n",
            "Val loss: 0.5817194432020187, Val f1: 0.7291545867919922\n",
            "Val loss: 0.5826675494511923, Val f1: 0.7258509993553162\n",
            "Val loss: 0.587414339184761, Val f1: 0.7233738303184509\n",
            "Val loss: 0.5877662122249603, Val f1: 0.7240191102027893\n"
          ]
        }
      ]
    },
    {
      "cell_type": "code",
      "source": [
        "import matplotlib.pyplot as plt\n",
        "plt.plot(losses)\n",
        "plt.plot(losses_eval)\n",
        "plt.title('BCE loss value')\n",
        "plt.ylabel('BCE loss')\n",
        "plt.xlabel('epoch')\n",
        "plt.legend(['train', 'val'], loc='upper right')\n",
        "plt.show()"
      ],
      "metadata": {
        "colab": {
          "base_uri": "https://localhost:8080/",
          "height": 295
        },
        "id": "hz6nNs8Lwc0t",
        "outputId": "b2393712-b48b-4503-f2f0-c5ca9b3a4188"
      },
      "execution_count": 74,
      "outputs": [
        {
          "output_type": "display_data",
          "data": {
            "image/png": "[encoded data removed]",
            "text/plain": [
              "<Figure size 432x288 with 1 Axes>"
            ]
          },
          "metadata": {
            "needs_background": "light"
          }
        }
      ]
    },
    {
      "cell_type": "markdown",
      "source": [
        "Выглядит отстойно: во-перых очевидное переобучение, во-вторых в лучшем случае лосс на тесте около 0,55, это как-то не оч.\n",
        "\n",
        "Улучшим дропаутами, пулингами и релу между сверточными слоями:"
      ],
      "metadata": {
        "id": "cSANmJmizxAt"
      }
    },
    {
      "cell_type": "code",
      "source": [
        "class CNN(nn.Module):\n",
        "    \n",
        "    def __init__(self, vocab_size, embedding_dim):\n",
        "        super().__init__()\n",
        "        self.embedding = nn.Embedding(vocab_size, embedding_dim)\n",
        "        self.bigrams = nn.Conv1d(in_channels=embedding_dim, out_channels=100, kernel_size=2, padding='same')\n",
        "        self.trigrams = nn.Conv1d(in_channels=embedding_dim, out_channels=80, kernel_size=3, padding='same')\n",
        "        self.svertka = nn.Conv1d(in_channels=180, out_channels=180, kernel_size=3, padding='same')\n",
        "        self.pooling = nn.MaxPool1d(kernel_size=2, stride=2)\n",
        "        self.relu = nn.ReLU()\n",
        "        self.hidden = nn.Linear(in_features=180, out_features=1)\n",
        "        self.dropout = nn.Dropout(p=0.5)\n",
        "        self.out = nn.Sigmoid()\n",
        "\n",
        "    def forward(self, word):\n",
        "        embedded = self.embedding(word)\n",
        "        embedded = embedded.transpose(1,2)\n",
        "        feature_map_bigrams = self.dropout(self.pooling(self.relu(self.bigrams(embedded))))\n",
        "        feature_map_trigrams = self.dropout(self.pooling(self.relu(self.trigrams(embedded))))\n",
        "        concat1 = torch.cat((feature_map_bigrams, feature_map_trigrams), 1)\n",
        "        sv = self.pooling(self.relu(self.svertka(concat1)))\n",
        "        pooling0 = sv.max(2)[0]\n",
        "        \n",
        "        logits = self.hidden(pooling0) \n",
        "        logits = self.out(logits)      \n",
        "        return logits"
      ],
      "metadata": {
        "id": "UUQ970OY1xZ1"
      },
      "execution_count": 75,
      "outputs": []
    },
    {
      "cell_type": "code",
      "source": [
        "model = CNN(len(word2id), 100)\n",
        "optimizer = optim.Adam(model.parameters(), lr=0.0005)\n",
        "criterion = nn.BCELoss()  \n",
        "\n",
        "model = model.to(DEVICE)\n",
        "criterion = criterion.to(DEVICE)"
      ],
      "metadata": {
        "id": "w_7HYU0167Nq"
      },
      "execution_count": 76,
      "outputs": []
    },
    {
      "cell_type": "code",
      "source": [
        "losses = []\n",
        "losses_eval = []\n",
        "f1s = []\n",
        "f1s_eval = []\n",
        "\n",
        "for i in range(20):\n",
        "    print(f'\\nstarting Epoch {i}')\n",
        "    print('Training...')\n",
        "    epoch_loss = train(model, train_iterator, optimizer, criterion)\n",
        "    losses.append(epoch_loss)\n",
        "    print('\\nEvaluating on train...')\n",
        "    f1_on_train,_ = evaluate(model, train_iterator, criterion)\n",
        "    f1s.append(f1_on_train)\n",
        "    print('\\nEvaluating on test...')\n",
        "    f1_on_test, epoch_loss_on_test = evaluate(model, val_iterator, criterion)\n",
        "    losses_eval.append(epoch_loss_on_test)\n",
        "    f1s_eval.append(f1_on_test)"
      ],
      "metadata": {
        "colab": {
          "base_uri": "https://localhost:8080/"
        },
        "id": "QW3HxBOFf75j",
        "outputId": "c308a166-bb77-4e19-8d21-79587ea23b17"
      },
      "execution_count": 77,
      "outputs": [
        {
          "output_type": "stream",
          "name": "stdout",
          "text": [
            "\n",
            "starting Epoch 0\n",
            "Training...\n",
            "Train loss: 0.7397546470165253\n",
            "Train loss: 0.7109098705378446\n",
            "Train loss: 0.6986915159225464\n",
            "Train loss: 0.6897014566321871\n",
            "Train loss: 0.6820289662906102\n",
            "\n",
            "Evaluating on train...\n",
            "Val loss: 0.6373868935248431, Val f1: 0.6449377536773682\n",
            "Val loss: 0.6353673005805296, Val f1: 0.6482030153274536\n",
            "Val loss: 0.634827061026704, Val f1: 0.6487230062484741\n",
            "Val loss: 0.6346185356378555, Val f1: 0.6483426094055176\n",
            "Val loss: 0.6340846293112811, Val f1: 0.6495673656463623\n",
            "\n",
            "Evaluating on test...\n",
            "Val loss: 0.6380287110805511, Val f1: 0.6416146755218506\n",
            "Val loss: 0.6369955092668533, Val f1: 0.6448604464530945\n",
            "Val loss: 0.6379000047842661, Val f1: 0.6395613551139832\n",
            "Val loss: 0.6375073716044426, Val f1: 0.640622615814209\n",
            "Val loss: 0.6380674004554748, Val f1: 0.6427370309829712\n",
            "\n",
            "starting Epoch 1\n",
            "Training...\n",
            "Train loss: 0.6782318986952305\n",
            "Train loss: 0.6550261125420079\n",
            "Train loss: 0.6467426145076751\n",
            "Train loss: 0.6400342183326607\n",
            "Train loss: 0.6364160925149918\n",
            "\n",
            "Evaluating on train...\n",
            "Val loss: 0.6046747530207914, Val f1: 0.6808321475982666\n",
            "Val loss: 0.6017463224775651, Val f1: 0.6822835206985474\n",
            "Val loss: 0.6020915181029076, Val f1: 0.6830916404724121\n",
            "Val loss: 0.602445628713159, Val f1: 0.6817286014556885\n",
            "Val loss: 0.6022256823147044, Val f1: 0.6822673678398132\n",
            "\n",
            "Evaluating on test...\n",
            "Val loss: 0.6107679307460785, Val f1: 0.6656491756439209\n",
            "Val loss: 0.6091085821390152, Val f1: 0.6681734323501587\n",
            "Val loss: 0.6100229918956757, Val f1: 0.6649535298347473\n",
            "Val loss: 0.6107271537184715, Val f1: 0.6648236513137817\n",
            "Val loss: 0.6113685369491577, Val f1: 0.6682981848716736\n",
            "\n",
            "starting Epoch 2\n",
            "Training...\n",
            "Train loss: 0.6445892862975597\n",
            "Train loss: 0.624200884139899\n",
            "Train loss: 0.6168022859096527\n",
            "Train loss: 0.6120661586078245\n",
            "Train loss: 0.6096445385898862\n",
            "\n",
            "Evaluating on train...\n",
            "Val loss: 0.5742384090143091, Val f1: 0.6890832185745239\n",
            "Val loss: 0.5732126078184914, Val f1: 0.6923937201499939\n",
            "Val loss: 0.5742535976802602, Val f1: 0.6919922232627869\n",
            "Val loss: 0.5749932571369059, Val f1: 0.6913927793502808\n",
            "Val loss: 0.5754014407887178, Val f1: 0.6913976669311523\n",
            "\n",
            "Evaluating on test...\n",
            "Val loss: 0.5907192826271057, Val f1: 0.6742156744003296\n",
            "Val loss: 0.587789312005043, Val f1: 0.6717002391815186\n",
            "Val loss: 0.5882931848367056, Val f1: 0.6703631281852722\n",
            "Val loss: 0.5900489464402199, Val f1: 0.6676733493804932\n",
            "Val loss: 0.5918201029300689, Val f1: 0.6690341830253601\n",
            "\n",
            "starting Epoch 3\n",
            "Training...\n",
            "Train loss: 0.62372962012887\n",
            "Train loss: 0.6035075187683105\n",
            "Train loss: 0.5933433616161347\n",
            "Train loss: 0.5884715976999767\n",
            "Train loss: 0.5862229608354115\n",
            "\n",
            "Evaluating on train...\n",
            "Val loss: 0.5586128024493947, Val f1: 0.671428382396698\n",
            "Val loss: 0.5581697558655458, Val f1: 0.6701265573501587\n",
            "Val loss: 0.5577647627568713, Val f1: 0.6701486110687256\n",
            "Val loss: 0.5582550264456693, Val f1: 0.6696020364761353\n",
            "Val loss: 0.5582287374664755, Val f1: 0.670314610004425\n",
            "\n",
            "Evaluating on test...\n",
            "Val loss: 0.579934149980545, Val f1: 0.644066572189331\n",
            "Val loss: 0.5764384269714355, Val f1: 0.6380990147590637\n",
            "Val loss: 0.5765979488690695, Val f1: 0.6312548518180847\n",
            "Val loss: 0.5797496661543846, Val f1: 0.6276266574859619\n",
            "Val loss: 0.5828284919261932, Val f1: 0.6293169260025024\n",
            "\n",
            "starting Epoch 4\n",
            "Training...\n",
            "Train loss: 0.6002104468643665\n",
            "Train loss: 0.5807821786764896\n",
            "Train loss: 0.570614869594574\n",
            "Train loss: 0.5669344334460017\n",
            "Train loss: 0.5656803590910775\n",
            "\n",
            "Evaluating on train...\n",
            "Val loss: 0.5365314834258136, Val f1: 0.7469927668571472\n",
            "Val loss: 0.5345366772483376, Val f1: 0.747905433177948\n",
            "Val loss: 0.5327481323597478, Val f1: 0.749467670917511\n",
            "Val loss: 0.5318694570485283, Val f1: 0.7495236992835999\n",
            "Val loss: 0.5322602180873647, Val f1: 0.7498411536216736\n",
            "\n",
            "Evaluating on test...\n",
            "Val loss: 0.562897652387619, Val f1: 0.7182179093360901\n",
            "Val loss: 0.5605570673942566, Val f1: 0.7163417935371399\n",
            "Val loss: 0.5596939225991567, Val f1: 0.715381383895874\n",
            "Val loss: 0.5623935610055923, Val f1: 0.7150173783302307\n",
            "Val loss: 0.5644486665725708, Val f1: 0.7161899209022522\n",
            "\n",
            "starting Epoch 5\n",
            "Training...\n",
            "Train loss: 0.5751610137522221\n",
            "Train loss: 0.5579946871959802\n",
            "Train loss: 0.5507625150680542\n",
            "Train loss: 0.5468105584827821\n",
            "Train loss: 0.545015961641357\n",
            "\n",
            "Evaluating on train...\n",
            "Val loss: 0.5129314117571887, Val f1: 0.7656430602073669\n",
            "Val loss: 0.5134646515635883, Val f1: 0.7669541835784912\n",
            "Val loss: 0.5106560471011143, Val f1: 0.7681195139884949\n",
            "Val loss: 0.5114754355129074, Val f1: 0.7673912644386292\n",
            "Val loss: 0.5116712749004364, Val f1: 0.7671886086463928\n",
            "\n",
            "Evaluating on test...\n",
            "Val loss: 0.5544155538082123, Val f1: 0.7272753715515137\n",
            "Val loss: 0.5521495193243027, Val f1: 0.7243425250053406\n",
            "Val loss: 0.5502757926781973, Val f1: 0.7245585322380066\n",
            "Val loss: 0.5532648116350174, Val f1: 0.7222131490707397\n",
            "Val loss: 0.555845296382904, Val f1: 0.7236656546592712\n",
            "\n",
            "starting Epoch 6\n",
            "Training...\n",
            "Train loss: 0.5494008846580982\n",
            "Train loss: 0.5353409232515277\n",
            "Train loss: 0.5303651314973831\n",
            "Train loss: 0.5275762961871588\n",
            "Train loss: 0.5261957212573006\n",
            "\n",
            "Evaluating on train...\n",
            "Val loss: 0.49476002069080577, Val f1: 0.7802313566207886\n",
            "Val loss: 0.4937807891298743, Val f1: 0.7793901562690735\n",
            "Val loss: 0.49412282892301973, Val f1: 0.7784906029701233\n",
            "Val loss: 0.49319685119039874, Val f1: 0.7789037823677063\n",
            "Val loss: 0.4932956593878129, Val f1: 0.7796604037284851\n",
            "\n",
            "Evaluating on test...\n",
            "Val loss: 0.5473135113716125, Val f1: 0.7336162328720093\n",
            "Val loss: 0.5438058525323868, Val f1: 0.7325866222381592\n",
            "Val loss: 0.5411780774593353, Val f1: 0.7314948439598083\n",
            "Val loss: 0.5443502739071846, Val f1: 0.7297043800354004\n",
            "Val loss: 0.547387671470642, Val f1: 0.729594886302948\n",
            "\n",
            "starting Epoch 7\n",
            "Training...\n",
            "Train loss: 0.533998180180788\n",
            "Train loss: 0.5177445411682129\n",
            "Train loss: 0.5131630623340606\n",
            "Train loss: 0.5111777248667247\n",
            "Train loss: 0.5084474083213579\n",
            "\n",
            "Evaluating on train...\n",
            "Val loss: 0.46105091361438527, Val f1: 0.7923524975776672\n",
            "Val loss: 0.4649057142874774, Val f1: 0.7879543900489807\n",
            "Val loss: 0.46683812667341795, Val f1: 0.7862239480018616\n",
            "Val loss: 0.467495124129688, Val f1: 0.7857641577720642\n",
            "Val loss: 0.4679330769707175, Val f1: 0.7856348752975464\n",
            "\n",
            "Evaluating on test...\n",
            "Val loss: 0.5333713889122009, Val f1: 0.7269684076309204\n",
            "Val loss: 0.5292032957077026, Val f1: 0.7297313809394836\n",
            "Val loss: 0.5283359785874685, Val f1: 0.7282330393791199\n",
            "Val loss: 0.5334567949175835, Val f1: 0.7247621417045593\n",
            "Val loss: 0.5371544420719147, Val f1: 0.7252113819122314\n",
            "\n",
            "starting Epoch 8\n",
            "Training...\n",
            "Train loss: 0.5190333612263203\n",
            "Train loss: 0.5028054696140867\n",
            "Train loss: 0.4982071566581726\n",
            "Train loss: 0.495195505779181\n",
            "Train loss: 0.4939298871017638\n",
            "\n",
            "Evaluating on train...\n",
            "Val loss: 0.4546438736074111, Val f1: 0.7965748906135559\n",
            "Val loss: 0.4547203884405248, Val f1: 0.7950730919837952\n",
            "Val loss: 0.4544856898924884, Val f1: 0.7954702377319336\n",
            "Val loss: 0.45401468084138985, Val f1: 0.7965165376663208\n",
            "Val loss: 0.4533058226108551, Val f1: 0.7966049313545227\n",
            "\n",
            "Evaluating on test...\n",
            "Val loss: 0.5271618664264679, Val f1: 0.7331847548484802\n",
            "Val loss: 0.523315355181694, Val f1: 0.7332095503807068\n",
            "Val loss: 0.5221534272034963, Val f1: 0.7309402823448181\n",
            "Val loss: 0.5272926241159439, Val f1: 0.7280339002609253\n",
            "Val loss: 0.5310758173465728, Val f1: 0.7286858558654785\n",
            "\n",
            "starting Epoch 9\n",
            "Training...\n",
            "Train loss: 0.505639074370265\n",
            "Train loss: 0.48648475245995954\n",
            "Train loss: 0.4835282409191132\n",
            "Train loss: 0.4787803487991219\n",
            "Train loss: 0.47683566347474143\n",
            "\n",
            "Evaluating on train...\n",
            "Val loss: 0.43401679571937113, Val f1: 0.8091003894805908\n",
            "Val loss: 0.43516217347453623, Val f1: 0.8126190304756165\n",
            "Val loss: 0.43770330676845476, Val f1: 0.809747040271759\n",
            "Val loss: 0.43673577291124005, Val f1: 0.8100118041038513\n",
            "Val loss: 0.4366834510775173, Val f1: 0.8093577027320862\n",
            "\n",
            "Evaluating on test...\n",
            "Val loss: 0.5249791145324707, Val f1: 0.7352092266082764\n",
            "Val loss: 0.5196506083011627, Val f1: 0.7402710914611816\n",
            "Val loss: 0.518985370794932, Val f1: 0.7393440008163452\n",
            "Val loss: 0.5247942805290222, Val f1: 0.736342191696167\n",
            "Val loss: 0.5290733277797699, Val f1: 0.7360274791717529\n",
            "\n",
            "starting Epoch 10\n",
            "Training...\n",
            "Train loss: 0.4814403187483549\n",
            "Train loss: 0.4699336127801375\n",
            "Train loss: 0.4666601848602295\n",
            "Train loss: 0.46429021812196986\n",
            "Train loss: 0.4621927723998115\n",
            "\n",
            "Evaluating on train...\n",
            "Val loss: 0.4168335900587194, Val f1: 0.8182922601699829\n",
            "Val loss: 0.4166248020003824, Val f1: 0.818397581577301\n",
            "Val loss: 0.4185355650443657, Val f1: 0.8173218965530396\n",
            "Val loss: 0.4198179525487563, Val f1: 0.8157423138618469\n",
            "Val loss: 0.42070210681242104, Val f1: 0.8152185082435608\n",
            "\n",
            "Evaluating on test...\n",
            "Val loss: 0.5206282734870911, Val f1: 0.7437377572059631\n",
            "Val loss: 0.5153379291296005, Val f1: 0.7434912323951721\n",
            "Val loss: 0.5147342383861542, Val f1: 0.7396600246429443\n",
            "Val loss: 0.521421030163765, Val f1: 0.7372339963912964\n",
            "Val loss: 0.5261080145835877, Val f1: 0.7364539504051208\n",
            "\n",
            "starting Epoch 11\n",
            "Training...\n",
            "Train loss: 0.4717826209962368\n",
            "Train loss: 0.45575186700531933\n",
            "Train loss: 0.45018039107322694\n",
            "Train loss: 0.45031199037139097\n",
            "Train loss: 0.4485630634285155\n",
            "\n",
            "Evaluating on train...\n",
            "Val loss: 0.41182926472495585, Val f1: 0.8221026659011841\n",
            "Val loss: 0.40849637459306154, Val f1: 0.8248873949050903\n",
            "Val loss: 0.40772806487831414, Val f1: 0.8247341513633728\n",
            "Val loss: 0.40788189365583305, Val f1: 0.8247206211090088\n",
            "Val loss: 0.40668224797529334, Val f1: 0.82587730884552\n",
            "\n",
            "Evaluating on test...\n",
            "Val loss: 0.5204907953739166, Val f1: 0.7462747097015381\n",
            "Val loss: 0.5142201334238052, Val f1: 0.7454696893692017\n",
            "Val loss: 0.5126486271619797, Val f1: 0.741352915763855\n",
            "Val loss: 0.5192825756967068, Val f1: 0.7396043539047241\n",
            "Val loss: 0.5242731660604477, Val f1: 0.7405891418457031\n",
            "\n",
            "starting Epoch 12\n",
            "Training...\n",
            "Train loss: 0.45210875384509563\n",
            "Train loss: 0.43965189745931915\n",
            "Train loss: 0.43397339403629304\n",
            "Train loss: 0.43330212893770703\n",
            "Train loss: 0.4352165095153309\n",
            "\n",
            "Evaluating on train...\n",
            "Val loss: 0.3961203711874345, Val f1: 0.8347219228744507\n",
            "Val loss: 0.39876438852618723, Val f1: 0.8314213752746582\n",
            "Val loss: 0.4003608250150494, Val f1: 0.8307862877845764\n",
            "Val loss: 0.3987976172391106, Val f1: 0.8326917290687561\n",
            "Val loss: 0.39806813141878916, Val f1: 0.8330413699150085\n",
            "\n",
            "Evaluating on test...\n",
            "Val loss: 0.5193652212619781, Val f1: 0.7475159168243408\n",
            "Val loss: 0.5131060183048248, Val f1: 0.7491785287857056\n",
            "Val loss: 0.5116287569204966, Val f1: 0.746650218963623\n",
            "Val loss: 0.518544115126133, Val f1: 0.7440587878227234\n",
            "Val loss: 0.5232064902782441, Val f1: 0.7444884777069092\n",
            "\n",
            "starting Epoch 13\n",
            "Training...\n",
            "Train loss: 0.4332236386835575\n",
            "Train loss: 0.4243555556644093\n",
            "Train loss: 0.4219642460346222\n",
            "Train loss: 0.42060882386876575\n",
            "Train loss: 0.42223506243455977\n",
            "\n",
            "Evaluating on train...\n",
            "Val loss: 0.3855430694187389, Val f1: 0.8378322720527649\n",
            "Val loss: 0.38262270653949065, Val f1: 0.8384747505187988\n",
            "Val loss: 0.3827142569364286, Val f1: 0.8384982347488403\n",
            "Val loss: 0.3823363461038646, Val f1: 0.8386651277542114\n",
            "Val loss: 0.3823638972114114, Val f1: 0.8386645913124084\n",
            "\n",
            "Evaluating on test...\n",
            "Val loss: 0.5198431313037872, Val f1: 0.7352406978607178\n",
            "Val loss: 0.5123156905174255, Val f1: 0.7431167364120483\n",
            "Val loss: 0.5104161898295084, Val f1: 0.7424635291099548\n",
            "Val loss: 0.5178084895014763, Val f1: 0.7411311864852905\n",
            "Val loss: 0.5227952122688293, Val f1: 0.7418997287750244\n",
            "\n",
            "starting Epoch 14\n",
            "Training...\n",
            "Train loss: 0.43194410391151905\n",
            "Train loss: 0.4193782562559301\n",
            "Train loss: 0.4143638467788696\n",
            "Train loss: 0.4117639456222306\n",
            "Train loss: 0.4118934231145041\n",
            "\n",
            "Evaluating on train...\n",
            "Val loss: 0.3705715642255895, Val f1: 0.8460726737976074\n",
            "Val loss: 0.3707193329053767, Val f1: 0.8483531475067139\n",
            "Val loss: 0.3690337912709105, Val f1: 0.8492103815078735\n",
            "Val loss: 0.36957165774177103, Val f1: 0.8484728932380676\n",
            "Val loss: 0.36910772113239065, Val f1: 0.8488802909851074\n",
            "\n",
            "Evaluating on test...\n",
            "Val loss: 0.5251857936382294, Val f1: 0.7495629787445068\n",
            "Val loss: 0.5174488723278046, Val f1: 0.7532080411911011\n",
            "Val loss: 0.5153247614701589, Val f1: 0.7511340379714966\n",
            "Val loss: 0.5232933908700943, Val f1: 0.7491921186447144\n",
            "Val loss: 0.5288066923618316, Val f1: 0.7492581009864807\n",
            "\n",
            "starting Epoch 15\n",
            "Training...\n",
            "Train loss: 0.41503703966736794\n",
            "Train loss: 0.40583855094331683\n",
            "Train loss: 0.4001148051023483\n",
            "Train loss: 0.3984193432686934\n",
            "Train loss: 0.39872505444855916\n",
            "\n",
            "Evaluating on train...\n",
            "Val loss: 0.35922762225655946, Val f1: 0.8521073460578918\n",
            "Val loss: 0.3601927441709182, Val f1: 0.8500746488571167\n",
            "Val loss: 0.35778190224778417, Val f1: 0.8531106114387512\n",
            "Val loss: 0.357409846256761, Val f1: 0.8540317416191101\n",
            "Val loss: 0.35773990750312806, Val f1: 0.8539212346076965\n",
            "\n",
            "Evaluating on test...\n",
            "Val loss: 0.5251359343528748, Val f1: 0.7533276677131653\n",
            "Val loss: 0.5181664228439331, Val f1: 0.7558332681655884\n",
            "Val loss: 0.5164226293563843, Val f1: 0.7538754940032959\n",
            "Val loss: 0.5242434144020081, Val f1: 0.7519326210021973\n",
            "Val loss: 0.530157059431076, Val f1: 0.7511271834373474\n",
            "\n",
            "starting Epoch 16\n",
            "Training...\n",
            "Train loss: 0.3989548087120056\n",
            "Train loss: 0.39101017785794806\n",
            "Train loss: 0.38855550408363343\n",
            "Train loss: 0.38924979051547265\n",
            "Train loss: 0.3864534305674689\n",
            "\n",
            "Evaluating on train...\n",
            "Val loss: 0.3374113212613499, Val f1: 0.8660317063331604\n",
            "Val loss: 0.33732684570200305, Val f1: 0.862411618232727\n",
            "Val loss: 0.33894762630556147, Val f1: 0.8618268370628357\n",
            "Val loss: 0.3396729805013713, Val f1: 0.8604423403739929\n",
            "Val loss: 0.33908614060458014, Val f1: 0.8606716394424438\n",
            "\n",
            "Evaluating on test...\n",
            "Val loss: 0.5248567461967468, Val f1: 0.7436437606811523\n",
            "Val loss: 0.5187190622091293, Val f1: 0.7506453990936279\n",
            "Val loss: 0.5187506477038065, Val f1: 0.7468972206115723\n",
            "Val loss: 0.5274115726351738, Val f1: 0.7454989552497864\n",
            "Val loss: 0.5336468517780304, Val f1: 0.7446438670158386\n",
            "\n",
            "starting Epoch 17\n",
            "Training...\n",
            "Train loss: 0.381572637706995\n",
            "Train loss: 0.37517030491973413\n",
            "Train loss: 0.37361617922782897\n",
            "Train loss: 0.374878731236529\n",
            "Train loss: 0.37564137258699964\n",
            "\n",
            "Evaluating on train...\n",
            "Val loss: 0.33210113118676576, Val f1: 0.8653150796890259\n",
            "Val loss: 0.3306069207542083, Val f1: 0.8659691214561462\n",
            "Val loss: 0.33219464035595164, Val f1: 0.8655005097389221\n",
            "Val loss: 0.330718218403704, Val f1: 0.8673816323280334\n",
            "Val loss: 0.3312564667533426, Val f1: 0.8672283291816711\n",
            "\n",
            "Evaluating on test...\n",
            "Val loss: 0.5320087671279907, Val f1: 0.7467530965805054\n",
            "Val loss: 0.5226888880133629, Val f1: 0.7519075870513916\n",
            "Val loss: 0.5209136058886846, Val f1: 0.7509114146232605\n",
            "Val loss: 0.5290067233145237, Val f1: 0.7503107786178589\n",
            "Val loss: 0.5355897337198258, Val f1: 0.7493500709533691\n",
            "\n",
            "starting Epoch 18\n",
            "Training...\n",
            "Train loss: 0.38394724391400814\n",
            "Train loss: 0.37458511916073883\n",
            "Train loss: 0.3700784546136856\n",
            "Train loss: 0.3674510793009801\n",
            "Train loss: 0.3668916764713469\n",
            "\n",
            "Evaluating on train...\n",
            "Val loss: 0.32144103856647716, Val f1: 0.8735017776489258\n",
            "Val loss: 0.32011041220496683, Val f1: 0.8732184171676636\n",
            "Val loss: 0.32116420304074006, Val f1: 0.8713441491127014\n",
            "Val loss: 0.32025467560571785, Val f1: 0.872075617313385\n",
            "Val loss: 0.31978169083595276, Val f1: 0.872385561466217\n",
            "\n",
            "Evaluating on test...\n",
            "Val loss: 0.536703497171402, Val f1: 0.7452717423439026\n",
            "Val loss: 0.5256639868021011, Val f1: 0.7504660487174988\n",
            "Val loss: 0.5243468284606934, Val f1: 0.7515031099319458\n",
            "Val loss: 0.5329665467143059, Val f1: 0.7507566809654236\n",
            "Val loss: 0.5401442348957062, Val f1: 0.7499023675918579\n",
            "\n",
            "starting Epoch 19\n",
            "Training...\n",
            "Train loss: 0.36018520779907703\n",
            "Train loss: 0.3545983126669219\n",
            "Train loss: 0.35387097477912904\n",
            "Train loss: 0.3540741329762473\n",
            "Train loss: 0.35373532417274656\n",
            "\n",
            "Evaluating on train...\n",
            "Val loss: 0.30652157699360566, Val f1: 0.8779054284095764\n",
            "Val loss: 0.30762771823826957, Val f1: 0.8774640560150146\n",
            "Val loss: 0.3068716940926571, Val f1: 0.8783115744590759\n",
            "Val loss: 0.306362006594153, Val f1: 0.8786940574645996\n",
            "Val loss: 0.3052369906621821, Val f1: 0.8787569999694824\n",
            "\n",
            "Evaluating on test...\n",
            "Val loss: 0.5392750799655914, Val f1: 0.7409003376960754\n",
            "Val loss: 0.528683215379715, Val f1: 0.7464166879653931\n",
            "Val loss: 0.5281881292661031, Val f1: 0.7482633590698242\n",
            "Val loss: 0.5370937585830688, Val f1: 0.7462255358695984\n",
            "Val loss: 0.5441977143287658, Val f1: 0.7458346486091614\n"
          ]
        }
      ]
    },
    {
      "cell_type": "code",
      "source": [
        "import matplotlib.pyplot as plt\n",
        "plt.plot(losses)\n",
        "plt.plot(losses_eval)\n",
        "plt.title('BCE loss value')\n",
        "plt.ylabel('BCE loss')\n",
        "plt.xlabel('epoch')\n",
        "plt.legend(['train', 'val'], loc='upper right')\n",
        "plt.show()"
      ],
      "metadata": {
        "colab": {
          "base_uri": "https://localhost:8080/",
          "height": 295
        },
        "id": "PVPoohvABf3R",
        "outputId": "b1ae94cd-3d5c-46a6-e59a-50f91c11cab6"
      },
      "execution_count": 37,
      "outputs": [
        {
          "output_type": "display_data",
          "data": {
            "image/png": "[encoded data removed]",
            "text/plain": [
              "<Figure size 432x288 with 1 Axes>"
            ]
          },
          "metadata": {
            "needs_background": "light"
          }
        }
      ]
    },
    {
      "cell_type": "markdown",
      "source": [
        "вроде получше?))) мы спаслись от переобучения, но лучший лосс на тесте не сильно изменился.\n",
        "\n",
        "Теперь попробуем с предобученными эмбеддингами:\n"
      ],
      "metadata": {
        "id": "_TQGaXE1z6sO"
      }
    },
    {
      "cell_type": "code",
      "source": [
        "import gensim\n",
        "texts = all_tweets_data.text.apply(preprocess).tolist()\n",
        "w2v = gensim.models.Word2Vec(texts, size=100, window=5, min_count=1)"
      ],
      "metadata": {
        "id": "LC_T20wIFttL"
      },
      "execution_count": 78,
      "outputs": []
    },
    {
      "cell_type": "code",
      "source": [
        "weights = np.zeros((len(word2id), 100))\n",
        "count = 0\n",
        "for word, i in word2id.items():\n",
        "    if word == 'PAD':\n",
        "        continue   \n",
        "    try:\n",
        "        weights[i] = w2v.wv[word]    \n",
        "    except KeyError:\n",
        "      count += 1\n",
        "      # oov словам сопоставляем случайный вектор\n",
        "      weights[i] = np.random.normal(0,0.1,100)"
      ],
      "metadata": {
        "id": "33-xwYco4HW5"
      },
      "execution_count": 79,
      "outputs": []
    },
    {
      "cell_type": "code",
      "source": [
        "class CNN_emb(nn.Module):\n",
        "    \n",
        "    def __init__(self, vocab_size, embedding_dim):\n",
        "        super().__init__()\n",
        "        self.embedding = nn.Embedding(vocab_size, embedding_dim)\n",
        "        self.embedding.from_pretrained(torch.tensor(weights), freeze=True)\n",
        "        self.bigrams = nn.Conv1d(in_channels=embedding_dim, out_channels=100, kernel_size=2, padding='same')\n",
        "        self.trigrams = nn.Conv1d(in_channels=embedding_dim, out_channels=80, kernel_size=3, padding='same')\n",
        "        self.svertka = nn.Conv1d(in_channels=180, out_channels=180, kernel_size=3, padding='same')\n",
        "        self.pooling = nn.MaxPool1d(kernel_size=2, stride=2)\n",
        "        self.relu = nn.ReLU()\n",
        "        self.hidden = nn.Linear(in_features=180, out_features=1)\n",
        "        self.dropout = nn.Dropout(p=0.5)\n",
        "        self.out = nn.Sigmoid()\n",
        "\n",
        "    def forward(self, word):\n",
        "        #batch_size x seq_len\n",
        "        embedded = self.embedding(word)\n",
        "        embedded = embedded.transpose(1,2)\n",
        "        feature_map_bigrams = self.dropout(self.pooling(self.relu(self.bigrams(embedded))))\n",
        "        feature_map_trigrams = self.dropout(self.pooling(self.relu(self.trigrams(embedded))))\n",
        "        concat1 = torch.cat((feature_map_bigrams, feature_map_trigrams), 1)\n",
        "        sv = self.pooling(self.relu(self.svertka(concat1)))\n",
        "        pooling0 = sv.max(2)[0]\n",
        "        \n",
        "        logits = self.hidden(pooling0) \n",
        "        logits = self.out(logits)      \n",
        "        return logits"
      ],
      "metadata": {
        "id": "gZYN-Cok4xN_"
      },
      "execution_count": 80,
      "outputs": []
    },
    {
      "cell_type": "code",
      "source": [
        "model2 = CNN_emb(len(word2id), 100)\n",
        "optimizer = optim.Adam(model2.parameters(), lr=0.0005)\n",
        "criterion = nn.BCELoss()  \n",
        "\n",
        "model2 = model2.to(DEVICE)\n",
        "criterion = criterion.to(DEVICE)"
      ],
      "metadata": {
        "id": "NkiTc_lA8gqR"
      },
      "execution_count": 81,
      "outputs": []
    },
    {
      "cell_type": "code",
      "source": [
        "losses = []\n",
        "losses_eval = []\n",
        "f1s = []\n",
        "f1s_eval = []\n",
        "\n",
        "for i in range(10):\n",
        "    print(f'\\nstarting Epoch {i}')\n",
        "    print('Training...')\n",
        "    epoch_loss = train(model2, train_iterator, optimizer, criterion)\n",
        "    losses.append(epoch_loss)\n",
        "    print('\\nEvaluating on train...')\n",
        "    f1_on_train,_ = evaluate(model2, train_iterator, criterion)\n",
        "    f1s.append(f1_on_train)\n",
        "    print('\\nEvaluating on test...')\n",
        "    f1_on_test, epoch_loss_on_test = evaluate(model2, val_iterator, criterion)\n",
        "    losses_eval.append(epoch_loss_on_test)\n",
        "    f1s_eval.append(f1_on_test)"
      ],
      "metadata": {
        "colab": {
          "base_uri": "https://localhost:8080/"
        },
        "id": "pPu6osXI8zY-",
        "outputId": "b21d1916-9e83-432d-99ba-adc5a2316649"
      },
      "execution_count": 82,
      "outputs": [
        {
          "output_type": "stream",
          "name": "stdout",
          "text": [
            "\n",
            "starting Epoch 0\n",
            "Training...\n",
            "Train loss: 0.7348674312233925\n",
            "Train loss: 0.7067410151163737\n",
            "Train loss: 0.6935847520828247\n",
            "Train loss: 0.6841898658382359\n",
            "Train loss: 0.6764296967358816\n",
            "\n",
            "Evaluating on train...\n",
            "Val loss: 0.6266885329695309, Val f1: 0.6096464991569519\n",
            "Val loss: 0.6250040601281559, Val f1: 0.6147249937057495\n",
            "Val loss: 0.6248770297742358, Val f1: 0.6149740815162659\n",
            "Val loss: 0.6257970368160921, Val f1: 0.6135932803153992\n",
            "Val loss: 0.6259050123831805, Val f1: 0.6147226095199585\n",
            "\n",
            "Evaluating on test...\n",
            "Val loss: 0.6286381185054779, Val f1: 0.6194698810577393\n",
            "Val loss: 0.6272288858890533, Val f1: 0.616374135017395\n",
            "Val loss: 0.6296482384204865, Val f1: 0.6119556427001953\n",
            "Val loss: 0.6292624026536942, Val f1: 0.6098564863204956\n",
            "Val loss: 0.6299563586711884, Val f1: 0.6109765768051147\n",
            "\n",
            "starting Epoch 1\n",
            "Training...\n",
            "Train loss: 0.6709494367241859\n",
            "Train loss: 0.6481855999339711\n",
            "Train loss: 0.6397007489204407\n",
            "Train loss: 0.6344443577439037\n",
            "Train loss: 0.6303083619901112\n",
            "\n",
            "Evaluating on train...\n",
            "Val loss: 0.5934387480511385, Val f1: 0.6721011400222778\n",
            "Val loss: 0.5925427079200745, Val f1: 0.672693133354187\n",
            "Val loss: 0.5927835866516712, Val f1: 0.6721510887145996\n",
            "Val loss: 0.594812289756887, Val f1: 0.6713355183601379\n",
            "Val loss: 0.5950511315289666, Val f1: 0.6696482300758362\n",
            "\n",
            "Evaluating on test...\n",
            "Val loss: 0.601832777261734, Val f1: 0.6631384491920471\n",
            "Val loss: 0.6013181954622269, Val f1: 0.6600792407989502\n",
            "Val loss: 0.6030362447102865, Val f1: 0.6557480692863464\n",
            "Val loss: 0.6029608324170113, Val f1: 0.6534321308135986\n",
            "Val loss: 0.6044809818267822, Val f1: 0.6564871072769165\n",
            "\n",
            "starting Epoch 2\n",
            "Training...\n",
            "Train loss: 0.640962939709425\n",
            "Train loss: 0.6203809308283257\n",
            "Train loss: 0.6127207696437835\n",
            "Train loss: 0.6091783696146154\n",
            "Train loss: 0.6057439226479757\n",
            "\n",
            "Evaluating on train...\n",
            "Val loss: 0.5661595568937414, Val f1: 0.7008163332939148\n",
            "Val loss: 0.5684717157307793, Val f1: 0.7006047964096069\n",
            "Val loss: 0.5687250833885342, Val f1: 0.6997802257537842\n",
            "Val loss: 0.5694929326281828, Val f1: 0.6989853978157043\n",
            "Val loss: 0.5702193063848159, Val f1: 0.699036180973053\n",
            "\n",
            "Evaluating on test...\n",
            "Val loss: 0.5845993161201477, Val f1: 0.6766630411148071\n",
            "Val loss: 0.5830138921737671, Val f1: 0.673521876335144\n",
            "Val loss: 0.5840453108151754, Val f1: 0.6700357794761658\n",
            "Val loss: 0.5848819240927696, Val f1: 0.6693130731582642\n",
            "Val loss: 0.5865967392921447, Val f1: 0.6713981032371521\n",
            "\n",
            "starting Epoch 3\n",
            "Training...\n",
            "Train loss: 0.6165989823639393\n",
            "Train loss: 0.597851093971368\n",
            "Train loss: 0.5904761791229248\n",
            "Train loss: 0.5863188451795436\n",
            "Train loss: 0.5836908831482842\n",
            "\n",
            "Evaluating on train...\n",
            "Val loss: 0.54214687908397, Val f1: 0.7249252200126648\n",
            "Val loss: 0.5455598410438088, Val f1: 0.7222421169281006\n",
            "Val loss: 0.5474326037893108, Val f1: 0.7205587029457092\n",
            "Val loss: 0.5481493341572145, Val f1: 0.7201729416847229\n",
            "Val loss: 0.5484446939300088, Val f1: 0.7191863656044006\n",
            "\n",
            "Evaluating on test...\n",
            "Val loss: 0.5742640495300293, Val f1: 0.6895353198051453\n",
            "Val loss: 0.5694333463907242, Val f1: 0.6861327290534973\n",
            "Val loss: 0.5699544548988342, Val f1: 0.6857659220695496\n",
            "Val loss: 0.5707293599843979, Val f1: 0.6842744946479797\n",
            "Val loss: 0.5725160539150238, Val f1: 0.6877306699752808\n",
            "\n",
            "starting Epoch 4\n",
            "Training...\n",
            "Train loss: 0.5985029488801956\n",
            "Train loss: 0.5784283858357053\n",
            "Train loss: 0.5719864571094513\n",
            "Train loss: 0.5677606134272334\n",
            "Train loss: 0.5649789734965279\n",
            "\n",
            "Evaluating on train...\n",
            "Val loss: 0.5263495515374577, Val f1: 0.7404027581214905\n",
            "Val loss: 0.5277976639130536, Val f1: 0.7408648729324341\n",
            "Val loss: 0.5274421841490502, Val f1: 0.7421613931655884\n",
            "Val loss: 0.5271485526772106, Val f1: 0.7423861622810364\n",
            "Val loss: 0.5274985919980442, Val f1: 0.7419758439064026\n",
            "\n",
            "Evaluating on test...\n",
            "Val loss: 0.5629533529281616, Val f1: 0.7113729119300842\n",
            "Val loss: 0.5563182234764099, Val f1: 0.708484411239624\n",
            "Val loss: 0.5562334656715393, Val f1: 0.7067674398422241\n",
            "Val loss: 0.5580778419971466, Val f1: 0.7032489776611328\n",
            "Val loss: 0.5600885689258576, Val f1: 0.7045344710350037\n",
            "\n",
            "starting Epoch 5\n",
            "Training...\n",
            "Train loss: 0.5700944736599922\n",
            "Train loss: 0.5571430632562349\n",
            "Train loss: 0.5498991441726685\n",
            "Train loss: 0.5470959268399139\n",
            "Train loss: 0.5439088805800393\n",
            "\n",
            "Evaluating on train...\n",
            "Val loss: 0.5036540855379665, Val f1: 0.748953104019165\n",
            "Val loss: 0.5035523263847127, Val f1: 0.7496918439865112\n",
            "Val loss: 0.5068084019071916, Val f1: 0.7466475963592529\n",
            "Val loss: 0.5065903790733394, Val f1: 0.7460315823554993\n",
            "Val loss: 0.5065567360204809, Val f1: 0.7463129162788391\n",
            "\n",
            "Evaluating on test...\n",
            "Val loss: 0.5551442801952362, Val f1: 0.7016494274139404\n",
            "Val loss: 0.546493798494339, Val f1: 0.7042461633682251\n",
            "Val loss: 0.5460379223028818, Val f1: 0.7013119459152222\n",
            "Val loss: 0.5485693737864494, Val f1: 0.6986367702484131\n",
            "Val loss: 0.5509171307086944, Val f1: 0.7013882398605347\n",
            "\n",
            "starting Epoch 6\n",
            "Training...\n",
            "Train loss: 0.5531851500272751\n",
            "Train loss: 0.539312375314308\n",
            "Train loss: 0.5326762175559998\n",
            "Train loss: 0.5299566419266942\n",
            "Train loss: 0.5288731367105529\n",
            "\n",
            "Evaluating on train...\n",
            "Val loss: 0.4861118688302882, Val f1: 0.7732816934585571\n",
            "Val loss: 0.4895156131071203, Val f1: 0.7697796821594238\n",
            "Val loss: 0.4888846430124021, Val f1: 0.7694442272186279\n",
            "Val loss: 0.49015213987406564, Val f1: 0.7692737579345703\n",
            "Val loss: 0.491131335847518, Val f1: 0.7685024738311768\n",
            "\n",
            "Evaluating on test...\n",
            "Val loss: 0.5483174920082092, Val f1: 0.7169580459594727\n",
            "Val loss: 0.5393518954515457, Val f1: 0.7198631763458252\n",
            "Val loss: 0.538401315609614, Val f1: 0.720209002494812\n",
            "Val loss: 0.5409324988722801, Val f1: 0.7162882089614868\n",
            "Val loss: 0.5430699765682221, Val f1: 0.718865692615509\n",
            "\n",
            "starting Epoch 7\n",
            "Training...\n",
            "Train loss: 0.54512176848948\n",
            "Train loss: 0.5232167108492418\n",
            "Train loss: 0.5165979117155075\n",
            "Train loss: 0.5116130963190278\n",
            "Train loss: 0.5102618010271163\n",
            "\n",
            "Evaluating on train...\n",
            "Val loss: 0.474348841344609, Val f1: 0.7784351110458374\n",
            "Val loss: 0.4730631156879313, Val f1: 0.7807953953742981\n",
            "Val loss: 0.4726388092134513, Val f1: 0.7803875207901001\n",
            "Val loss: 0.4725840472999741, Val f1: 0.7809457182884216\n",
            "Val loss: 0.47193964263972116, Val f1: 0.7814868092536926\n",
            "\n",
            "Evaluating on test...\n",
            "Val loss: 0.542723149061203, Val f1: 0.7213820815086365\n",
            "Val loss: 0.5324411541223526, Val f1: 0.7259190678596497\n",
            "Val loss: 0.5310310622056326, Val f1: 0.7255124449729919\n",
            "Val loss: 0.5345318913459778, Val f1: 0.7215992212295532\n",
            "Val loss: 0.5366653800010681, Val f1: 0.7244958281517029\n",
            "\n",
            "starting Epoch 8\n",
            "Training...\n",
            "Train loss: 0.5186455771327019\n",
            "Train loss: 0.5023057180823702\n",
            "Train loss: 0.4994755572080612\n",
            "Train loss: 0.49754334385715315\n",
            "Train loss: 0.4968630628926413\n",
            "\n",
            "Evaluating on train...\n",
            "Val loss: 0.45199960996122923, Val f1: 0.8002634048461914\n",
            "Val loss: 0.45325447881923003, Val f1: 0.7996204495429993\n",
            "Val loss: 0.45498934446596634, Val f1: 0.7968974113464355\n",
            "Val loss: 0.45576740275411043, Val f1: 0.7956342101097107\n",
            "Val loss: 0.4562844651586869, Val f1: 0.7954204082489014\n",
            "\n",
            "Evaluating on test...\n",
            "Val loss: 0.5404146313667297, Val f1: 0.7219721078872681\n",
            "Val loss: 0.5291079431772232, Val f1: 0.7286244034767151\n",
            "Val loss: 0.5268566707770029, Val f1: 0.7294570803642273\n",
            "Val loss: 0.5304903239011765, Val f1: 0.7237916588783264\n",
            "Val loss: 0.532521253824234, Val f1: 0.7273485064506531\n",
            "\n",
            "starting Epoch 9\n",
            "Training...\n",
            "Train loss: 0.5033893063664436\n",
            "Train loss: 0.48752825639464636\n",
            "Train loss: 0.4846379899978638\n",
            "Train loss: 0.48110428852821463\n",
            "Train loss: 0.4811460588659559\n",
            "\n",
            "Evaluating on train...\n",
            "Val loss: 0.43904831654885235, Val f1: 0.8014499545097351\n",
            "Val loss: 0.4378167609958088, Val f1: 0.8057281374931335\n",
            "Val loss: 0.43908729448037986, Val f1: 0.8055122494697571\n",
            "Val loss: 0.4395385941161829, Val f1: 0.8052529096603394\n",
            "Val loss: 0.43983089748550863, Val f1: 0.8050849437713623\n",
            "\n",
            "Evaluating on test...\n",
            "Val loss: 0.5381878018379211, Val f1: 0.7234162092208862\n",
            "Val loss: 0.5257538110017776, Val f1: 0.73143070936203\n",
            "Val loss: 0.5229478379090627, Val f1: 0.733193039894104\n",
            "Val loss: 0.5268774256110191, Val f1: 0.7284716963768005\n",
            "Val loss: 0.528838312625885, Val f1: 0.7316902875900269\n"
          ]
        }
      ]
    },
    {
      "cell_type": "code",
      "source": [
        "import matplotlib.pyplot as plt\n",
        "plt.plot(losses)\n",
        "plt.plot(losses_eval)\n",
        "plt.title('BCE loss value')\n",
        "plt.ylabel('BCE loss')\n",
        "plt.xlabel('epoch')\n",
        "plt.legend(['train', 'val'], loc='upper right')\n",
        "plt.show()"
      ],
      "metadata": {
        "colab": {
          "base_uri": "https://localhost:8080/",
          "height": 295
        },
        "id": "DHD6lLs79dce",
        "outputId": "4db0ec02-65e3-4140-eecf-64321f0b96c5"
      },
      "execution_count": 83,
      "outputs": [
        {
          "output_type": "display_data",
          "data": {
            "image/png": "[encoded data removed]",
            "text/plain": [
              "<Figure size 432x288 with 1 Axes>"
            ]
          },
          "metadata": {
            "needs_background": "light"
          }
        }
      ]
    },
    {
      "cell_type": "markdown",
      "source": [
        "получается так же как с обучающимися эмбеддингами\n",
        "\n",
        "давайте попробуем изучить ошибки"
      ],
      "metadata": {
        "id": "TKnRQujN9opI"
      }
    },
    {
      "cell_type": "code",
      "source": [
        "def predict(model, iterator):\n",
        "    model.eval()\n",
        "    fp = []\n",
        "    fn = []\n",
        "    tp = [] \n",
        "    tn = []\n",
        "    with torch.no_grad():\n",
        "        for i, (texts, ys) in enumerate(iterator):   \n",
        "            preds = model(texts) \n",
        "            for pred, gold, text in zip(preds, ys, texts):\n",
        "              text = ' '.join([id2word[int(symbol)] for symbol in text if symbol !=0])\n",
        "              if round(pred.item()) > gold:\n",
        "                fp.append(text)\n",
        "              elif round(pred.item()) < gold:\n",
        "                fn.append(text)\n",
        "              elif round(pred.item()) == gold == 1:\n",
        "                tp.append(text)\n",
        "              elif round(pred.item()) == gold == 0:\n",
        "                tn.append(text)\n",
        "    return fp, fn, tp, tn"
      ],
      "metadata": {
        "id": "CcKW560oLPQQ"
      },
      "execution_count": 84,
      "outputs": []
    },
    {
      "cell_type": "code",
      "source": [
        "fp, fn, tp, tn = predict(model, val_iterator)"
      ],
      "metadata": {
        "id": "2e3hgD8ELek4"
      },
      "execution_count": 85,
      "outputs": []
    },
    {
      "cell_type": "code",
      "source": [
        "print('true positive: ', tp[:25])"
      ],
      "metadata": {
        "colab": {
          "base_uri": "https://localhost:8080/"
        },
        "id": "YU7JscjlLvqa",
        "outputId": "71f19c7d-2eb2-49c5-ecfd-61758b705bbe"
      },
      "execution_count": 86,
      "outputs": [
        {
          "output_type": "stream",
          "name": "stdout",
          "text": [
            "true positive:  ['получила удовольствие от просмотра советую', 'rt ты просто на дне ещё не разу не', 'я намекаю на то что по кругу и и вообще я ты не знал', 'настолько разочаровалась в парня что задумываюсь перейти на девушек', 'спасибо накатило 100 лет эту песню не слушала', 'опиши мене за 5 слів — маленька', 'rt оказывается сегодня международный день переводчика ну что коллеги и единомышленники с праздником что ли', 'ленты только райот по к2 х мои ж', 'с вовой и проводили на задавали по 11 вопросов о коррупции поржали от души d', 'глупо задавать вопрос ответ на который итак знаешь', 'потому что я работаю на фбр и хорошо и не только', 'монголын минь хүний нэг ын бэлэг диск', 'могу набери в гугле или в хрома', 'все равно так себе смотреть надо в оригинале но это очень мило что они его показывают', 'плохие привычки нельзя уничтожить но их место можно заменить другими d', 'patrikoksi я в этом уверен меня они всегда спасают правда иногда через спасают', 'rt у мамы попрошу что бы купила мне в комнату маленькую елочку и наряжу ее по своему', 'rt ну я тогда тоже', 'festmahlmann белое что ли брать у меня как бы не дофига вариантов', 'спокойной ночи чужая ну или не чужая наверное кому как', 'скучала по тебе — воу приятно куда', 'вот это я навернулась около дома даже сама не заметила как на снегу', 'ты почти не молодец я почти благодарен тебе', 'rt gornikfanny777 встаньте дети встаньте в круг', 'justvishme моя мама видимо в одном поезде']\n"
          ]
        }
      ]
    },
    {
      "cell_type": "code",
      "source": [
        "print('ошибочно считаем позитивными: ', fp[:25])"
      ],
      "metadata": {
        "colab": {
          "base_uri": "https://localhost:8080/"
        },
        "id": "CMbsDskSL_Px",
        "outputId": "b4d609be-6c10-49e1-c8ea-d02e71996613"
      },
      "execution_count": 87,
      "outputs": [
        {
          "output_type": "stream",
          "name": "stdout",
          "text": [
            "ошибочно считаем позитивными:  ['именно ты права но тут считают что', 'маме с утра на счет этого концерта она не отпускает из-за учебы окай', 'алкоголь тут с 11 ну збс надо на ром что ли развести мать', 'уйду я от вас в злые вы все меня уже который раз все', 'тетя сказала щас снег бабушке поедем', 'уже 2-ой день подряд все красивые парни выходят на', 'да я уже с самого утра скучаю там по всем', 'это не хорошо сходи к зубному он её чем-нибудь', 'я же еще недавно спрашивала у бабушки уверенна ли она в том что вика так не и она ответила что уверенна', 'кармане 20 еще надо в автошколу потом как то домой добираться', 'день без макияжа и всее знакомые парни случайно на тебя в минске уу', 'santairis у нас вон все воду в европе им жить захотелось как будто они в африке живут мрази', 'села греться а то вообще какое-то состояние неправильное', 'потому что вот не все хлопья одинаково полезны', 'купила угги в а то ноги бы в сапогах на платформе', 'ты любишь морковку — не лезь в мою жизнь', 'и в воскресенье ты с нами не идёшь на встречу значит или что', 'у ленты хочу чтоб подарочки мне подарили', 'rt вот это я называю кто-то создал в твиттере', 'rt anuta1sth ты что все мои планы я уже билеты купила на луну думаю прилечу чай ты со своим', 'меня кубики пока неочень видно', 'испанский он такой что я схожу с ума даже без знаний испанского вы все поймете первая строчка', 'rt изза авы мне перехотелось общаться с подругой какой я', 'он думал там теперь пока автобуса', 'сны нужны для того чтобы хоть немного побыть с тем кого уже нет никогда не будет']\n"
          ]
        }
      ]
    },
    {
      "cell_type": "code",
      "source": [
        "print('ошибочно считаем негативными: ', fn[:25])"
      ],
      "metadata": {
        "colab": {
          "base_uri": "https://localhost:8080/"
        },
        "id": "eGtcAcq-MQWO",
        "outputId": "fd19e093-c529-47f2-e964-12c0207e25bf"
      },
      "execution_count": 88,
      "outputs": [
        {
          "output_type": "stream",
          "name": "stdout",
          "text": [
            "ошибочно считаем негативными:  ['кто еще сам доехал до работы кроме меня и', 'сдала две контрольные по анатомии осталась одна и свалю нафиг', 'rt я знаю мои соседи хотят послушать led zeppelin', 'хотя у меня есть верный друг который всегда со мной а значит нас двое а значит уже нихуя не страшно', 'запихнуть в вот было бы хорошо', 'а я отвечу что какой кошмар а я не пишу с видимо и не сдам х', 'все мои друзья общаются со мной в соц сетях по разному и к каждому у меня свой я не знаю какая я', 'да,я тоже хочу новогоднюю ночь с', 'rt 27_wrm mimifka ну понятно и за стулья где работу унесли и сказали здесь сиди', 'блять я к своему коту привык это же не значит что я с ним то должна быть какая-то', 'женечка спит после операции', 'сообщает о том что в москве редкие снежинки будьте осторожны за рулем снег', 'давай а то блин я же умру от скуки без тебя', 'каждую ты наверное не высыпаться я имею в', 'пиздец ночка утречко конечно зато поржали от души', 'rt завтра не будет можно будет не учить', 'сегодня увидела', 'может но ты ему все не так страшно на самом деле', 'wpnew мне хватило двух дней теперь не могу работать на старом', 'я', 'вот это последняя серия вообще крутая скорее бы второй сезон', '01znllh бы ты если не пошла учитывая что скоро собрание', 'с этой символикой сделаем', 'становится на стиль жизни', 'день не задался с самого утра а еще я поняла,что не могу без нужно рассказывать']\n"
          ]
        }
      ]
    },
    {
      "cell_type": "markdown",
      "source": [
        "Честно говоря, у меня вообще большие вопросы к тому, кто размечал эти твиты... Но наверное можно объяснить часть ошибок очень просто: в твите есть какое-то слово, которое часто употребляется в позитивном ключе, например, офигенно. И если твит типа \"мама выгнала из дома, ну офигенно\", моделька прочитает слово офигенно и решит, что он радостный :)"
      ],
      "metadata": {
        "id": "sd5_TORKMrUg"
      }
    },
    {
      "cell_type": "markdown",
      "source": [
        "## посимвольно"
      ],
      "metadata": {
        "id": "Yp-G7fDkcY3Y"
      }
    },
    {
      "cell_type": "markdown",
      "source": [
        "Словарики, подготовка..."
      ],
      "metadata": {
        "id": "2wwkyGG3NAir"
      }
    },
    {
      "cell_type": "code",
      "source": [
        "vocab_s = Counter()\n",
        "for symbol in tweets_data['text']:\n",
        "    vocab_s.update(list(symbol))\n",
        "print('всего уникальных символов:', len(vocab_s))"
      ],
      "metadata": {
        "colab": {
          "base_uri": "https://localhost:8080/"
        },
        "id": "aEwrQkaV9t7B",
        "outputId": "5b13b63d-6905-4268-8894-2b450d74dfc8"
      },
      "execution_count": 15,
      "outputs": [
        {
          "output_type": "stream",
          "name": "stdout",
          "text": [
            "всего уникальных символов: 361\n"
          ]
        }
      ]
    },
    {
      "cell_type": "code",
      "source": [
        "filtered_vocab_s = set()\n",
        "\n",
        "for symbol in vocab_s:\n",
        "    if vocab_s[symbol] > 5:\n",
        "        filtered_vocab_s.add(symbol)\n",
        "print('уникальных символов, втретившихся больше 5 раз:', len(filtered_vocab_s))"
      ],
      "metadata": {
        "colab": {
          "base_uri": "https://localhost:8080/"
        },
        "id": "FGm3mC_hFVKv",
        "outputId": "d3509250-5308-484d-8438-d805ceaa05a8"
      },
      "execution_count": 16,
      "outputs": [
        {
          "output_type": "stream",
          "name": "stdout",
          "text": [
            "уникальных символов, втретившихся больше 5 раз: 211\n"
          ]
        }
      ]
    },
    {
      "cell_type": "code",
      "source": [
        "symbol2id = {'PAD':0}\n",
        "\n",
        "for symbol in filtered_vocab:\n",
        "    symbol2id[symbol] = len(symbol2id)"
      ],
      "metadata": {
        "id": "FekmgGm8FZMt"
      },
      "execution_count": 17,
      "outputs": []
    },
    {
      "cell_type": "code",
      "source": [
        "id2symbol = {i:symbol for symbol, i in symbol2id.items()}"
      ],
      "metadata": {
        "id": "7fHcYXWyFcJI"
      },
      "execution_count": 18,
      "outputs": []
    },
    {
      "cell_type": "markdown",
      "source": [
        "Делаем датасет, надо добавить новый словарик, и не забыть сделать поля для символов всякие."
      ],
      "metadata": {
        "id": "p_fNwKGGNDnH"
      }
    },
    {
      "cell_type": "code",
      "source": [
        "class Dataset2(Dataset):\n",
        "\n",
        "    def __init__(self, dataset, word2id, symbol2id, DEVICE):\n",
        "        self.dataset = dataset['text'].values\n",
        "        self.word2id = word2id\n",
        "        self.symbol2id = symbol2id\n",
        "        self.length = dataset.shape[0]\n",
        "        self.target = dataset['tone'].values\n",
        "        self.device = DEVICE\n",
        "\n",
        "    def __len__(self):\n",
        "        return self.length\n",
        "\n",
        "    def __getitem__(self, index): \n",
        "        tokens = self.preprocess(self.dataset[index])\n",
        "        symbols = list(self.dataset[index])\n",
        "        ids = torch.LongTensor([self.word2id[tok] for tok in tokens if tok in self.word2id])\n",
        "        ids_s = torch.LongTensor([self.symbol2id[symbol] for symbol in symbols if symbol in self.symbol2id])\n",
        "        y = [self.target[index]]\n",
        "        return ids, ids_s, y\n",
        "\n",
        "    def preprocess(self, text):\n",
        "        tokens = text.lower().split()\n",
        "        tokens = [token.strip(punctuation) for token in tokens]\n",
        "        tokens = [token for token in tokens if token]\n",
        "        return tokens\n",
        "        \n",
        "    def collate_fn(self, batch):\n",
        "      ids, ids_s, y = list(zip(*batch))\n",
        "      padded_ids = pad_sequence(ids, batch_first=True).to(self.device)\n",
        "      padded_ids_s = pad_sequence(ids, batch_first=True).to(self.device)\n",
        "      y = torch.Tensor(y).to(self.device)\n",
        "      return padded_ids, padded_ids_s, y"
      ],
      "metadata": {
        "id": "_ZDTfsMkFfCu"
      },
      "execution_count": 19,
      "outputs": []
    },
    {
      "cell_type": "code",
      "source": [
        "device = torch.device('cuda') if torch.cuda.is_available() else torch.device('cpu')"
      ],
      "metadata": {
        "id": "qy2gptnLIrUn"
      },
      "execution_count": 20,
      "outputs": []
    },
    {
      "cell_type": "code",
      "source": [
        "train_dataset = Dataset2(train_sentences, word2id, symbol2id, device)\n",
        "train_sampler = RandomSampler(train_dataset)\n",
        "train_iterator = DataLoader(train_dataset, collate_fn = train_dataset.collate_fn, sampler=train_sampler, batch_size=1024)"
      ],
      "metadata": {
        "id": "1AyOD-ZjGlWs"
      },
      "execution_count": 21,
      "outputs": []
    },
    {
      "cell_type": "code",
      "source": [
        "val_dataset = Dataset2(train_sentences, word2id, symbol2id, device)\n",
        "val_sampler = SequentialSampler(val_dataset)\n",
        "val_iterator = DataLoader(val_dataset, collate_fn = val_dataset.collate_fn, sampler=val_sampler, batch_size=1024)"
      ],
      "metadata": {
        "id": "jrUeII0rIcxA"
      },
      "execution_count": 22,
      "outputs": []
    },
    {
      "cell_type": "markdown",
      "source": [
        "Моделька вроде такая как в условии задачи: эмбеддинги для слов, mean, линейный слой, эмбеддинги для символов, свертки с разным окном, макспулинг. Потом конкатенация этого всего, линейный слой и сигмоида."
      ],
      "metadata": {
        "id": "YYTBYEkXNMAB"
      }
    },
    {
      "cell_type": "code",
      "source": [
        "class My_model(nn.Module):\n",
        "    \n",
        "    def __init__(self, vocab_size, s_size, embedding_dim, s_dim):\n",
        "        super().__init__()\n",
        "        self.embedding = nn.Embedding(vocab_size, embedding_dim)\n",
        "        self.linear1 = nn.Linear(in_features=embedding_dim, out_features=180)\n",
        "        self.embedding_s = nn.Embedding(s_size, s_dim)\n",
        "        self.bigrams = nn.Conv1d(in_channels=s_dim, out_channels=100, kernel_size=2, padding='same')\n",
        "        self.trigrams = nn.Conv1d(in_channels=s_dim, out_channels=80, kernel_size=3, padding='same')\n",
        "        self.pooling = nn.MaxPool1d(kernel_size=2, stride=2)\n",
        "        self.relu = nn.ReLU()\n",
        "        self.hidden = nn.Linear(in_features=360, out_features=1)\n",
        "        self.dropout = nn.Dropout(p=0.5)\n",
        "        self.out = nn.Sigmoid()\n",
        "\n",
        "    def forward(self, text, symb):\n",
        "        embedded = self.embedding(text).mean(axis=1)\n",
        "        embedded = self.linear1(embedded)\n",
        "        embedded_s = self.embedding_s(symb)\n",
        "        embedded_s = embedded_s.transpose(1,2)\n",
        "        feature_map_bigrams = self.bigrams(embedded_s)\n",
        "        feature_map_trigrams = self.trigrams(embedded_s)\n",
        "        pooling1 = feature_map_bigrams.max(2)[0] \n",
        "        pooling2 = feature_map_trigrams.max(2)[0]\n",
        "        concat = torch.cat((pooling1, pooling2, embedded), 1)\n",
        "        logits = self.hidden(concat) \n",
        "        logits = self.out(logits)      \n",
        "        return logits"
      ],
      "metadata": {
        "id": "VLV20VhiI9NV"
      },
      "execution_count": 32,
      "outputs": []
    },
    {
      "cell_type": "code",
      "source": [
        "model = My_model(len(word2id), len(symbol2id), 100, 8)\n",
        "optimizer = optim.Adam(model.parameters(), lr=0.0005)\n",
        "criterion = nn.BCELoss()  \n",
        "\n",
        "model = model.to(device)\n",
        "criterion = criterion.to(device)"
      ],
      "metadata": {
        "id": "RMYOktZOOSju"
      },
      "execution_count": 24,
      "outputs": []
    },
    {
      "cell_type": "code",
      "source": [
        "def train(model, iterator, optimizer, criterion):\n",
        "    epoch_loss = 0 \n",
        "\n",
        "    model.train()\n",
        "\n",
        "    for i, (*data, ys) in enumerate(iterator):\n",
        "        optimizer.zero_grad()  \n",
        "        preds = model(*data) \n",
        "        loss = criterion(preds, ys) \n",
        "        loss.backward()  \n",
        "        optimizer.step() \n",
        "        epoch_loss += loss.item() \n",
        "        if not (i + 1) % int(len(iterator)/5):\n",
        "            print(f'Train loss: {epoch_loss/(i+1)}')      \n",
        "    return  epoch_loss / len(iterator) "
      ],
      "metadata": {
        "id": "2ItTFC8PPL5S"
      },
      "execution_count": 25,
      "outputs": []
    },
    {
      "cell_type": "code",
      "source": [
        "def evaluate(model, iterator, criterion):\n",
        "    epoch_loss = 0\n",
        "    epoch_metric = 0\n",
        "    model.eval() \n",
        "    with torch.no_grad():\n",
        "        for i, (*data, ys) in enumerate(iterator):   \n",
        "            preds = model(*data) \n",
        "            loss = criterion(preds, ys)   \n",
        "            epoch_loss += loss.item()\n",
        "            batch_metric = f1(preds.round().long(), ys.long(), ignore_index=0)\n",
        "            epoch_metric += batch_metric\n",
        "\n",
        "            if not (i + 1) % int(len(iterator)/5):\n",
        "              print(f'Val loss: {epoch_loss/(i+1)}, Val f1: {epoch_metric/(i+1)}')\n",
        "        \n",
        "    return epoch_metric / len(iterator), epoch_loss / len(iterator) # возвращаем среднее значение по всей выборке"
      ],
      "metadata": {
        "id": "T72mkOzBP5OB"
      },
      "execution_count": 26,
      "outputs": []
    },
    {
      "cell_type": "code",
      "source": [
        "losses = []\n",
        "losses_eval = []\n",
        "f1s = []\n",
        "f1s_eval = []\n",
        "\n",
        "for i in range(20):\n",
        "    print(f'\\nstarting Epoch {i}')\n",
        "    print('Training...')\n",
        "    epoch_loss = train(model, train_iterator, optimizer, criterion)\n",
        "    losses.append(epoch_loss)\n",
        "    print('\\nEvaluating on train...')\n",
        "    f1_on_train,_ = evaluate(model, train_iterator, criterion)\n",
        "    f1s.append(f1_on_train)\n",
        "    print('\\nEvaluating on test...')\n",
        "    f1_on_test, epoch_loss_on_test = evaluate(model, val_iterator, criterion)\n",
        "    losses_eval.append(epoch_loss_on_test)\n",
        "    f1s_eval.append(f1_on_test)"
      ],
      "metadata": {
        "id": "tEgG_vdIOhLc",
        "colab": {
          "base_uri": "https://localhost:8080/"
        },
        "outputId": "fc7b8cdc-4076-4c04-b594-254fdf1875d3"
      },
      "execution_count": 27,
      "outputs": [
        {
          "output_type": "stream",
          "name": "stdout",
          "text": [
            "\n",
            "starting Epoch 0\n",
            "Training...\n"
          ]
        },
        {
          "output_type": "stream",
          "name": "stderr",
          "text": [
            "/usr/local/lib/python3.7/dist-packages/torch/nn/modules/conv.py:298: UserWarning: Using padding='same' with even kernel lengths and odd dilation may require a zero-padded copy of the input be created (Triggered internally at  ../aten/src/ATen/native/Convolution.cpp:647.)\n",
            "  self.padding, self.dilation, self.groups)\n"
          ]
        },
        {
          "output_type": "stream",
          "name": "stdout",
          "text": [
            "Train loss: 0.695165052133448\n",
            "Train loss: 0.6918146259644452\n",
            "Train loss: 0.6893303464440739\n",
            "Train loss: 0.6871171821566189\n",
            "Train loss: 0.6846825648756588\n",
            "\n",
            "Evaluating on train...\n",
            "Val loss: 0.6684726476669312, Val f1: 0.6437727808952332\n",
            "Val loss: 0.670041701372932, Val f1: 0.6414141654968262\n",
            "Val loss: 0.6698340002228232, Val f1: 0.6416688561439514\n",
            "Val loss: 0.6700607029830709, Val f1: 0.6414313912391663\n",
            "Val loss: 0.6701523836921243, Val f1: 0.6403388381004333\n",
            "\n",
            "Evaluating on test...\n",
            "Val loss: 0.6696486753575942, Val f1: 0.6414955854415894\n",
            "Val loss: 0.6692235890556785, Val f1: 0.643690824508667\n",
            "Val loss: 0.6697215998873991, Val f1: 0.6416450142860413\n",
            "Val loss: 0.6698906991411658, Val f1: 0.6414837837219238\n",
            "Val loss: 0.6699846141478595, Val f1: 0.640643835067749\n",
            "\n",
            "starting Epoch 1\n",
            "Training...\n",
            "Train loss: 0.6678067130201003\n",
            "Train loss: 0.6649731800836676\n",
            "Train loss: 0.6618382755447837\n",
            "Train loss: 0.6593386679887772\n",
            "Train loss: 0.6561734998927397\n",
            "\n",
            "Evaluating on train...\n",
            "Val loss: 0.637166044291328, Val f1: 0.6556200385093689\n",
            "Val loss: 0.6356297100291532, Val f1: 0.6570250391960144\n",
            "Val loss: 0.6361021072256798, Val f1: 0.6566082835197449\n",
            "Val loss: 0.6363834177746492, Val f1: 0.655640184879303\n",
            "Val loss: 0.6357107036253985, Val f1: 0.6575056910514832\n",
            "\n",
            "Evaluating on test...\n",
            "Val loss: 0.6363821204970864, Val f1: 0.6587088108062744\n",
            "Val loss: 0.6352472007274628, Val f1: 0.659551739692688\n",
            "Val loss: 0.6355676288698234, Val f1: 0.6577229499816895\n",
            "Val loss: 0.6355441624627394, Val f1: 0.6576306819915771\n",
            "Val loss: 0.6356424107271083, Val f1: 0.657014787197113\n",
            "\n",
            "starting Epoch 2\n",
            "Training...\n",
            "Train loss: 0.6344150725532981\n",
            "Train loss: 0.6320153825423297\n",
            "Train loss: 0.6291020758011762\n",
            "Train loss: 0.6253761421231663\n",
            "Train loss: 0.6216867271591635\n",
            "\n",
            "Evaluating on train...\n",
            "Val loss: 0.6012871966642492, Val f1: 0.6882929801940918\n",
            "Val loss: 0.6012576502912185, Val f1: 0.6891675591468811\n",
            "Val loss: 0.6019317858359393, Val f1: 0.6887972354888916\n",
            "Val loss: 0.6010498851537704, Val f1: 0.6904052495956421\n",
            "Val loss: 0.6014607191085816, Val f1: 0.690153956413269\n",
            "\n",
            "Evaluating on test...\n",
            "Val loss: 0.6034423884223489, Val f1: 0.6900216341018677\n",
            "Val loss: 0.6013045433689567, Val f1: 0.6928211450576782\n",
            "Val loss: 0.6014278519387338, Val f1: 0.6915701031684875\n",
            "Val loss: 0.6011614799499512, Val f1: 0.6911441087722778\n",
            "Val loss: 0.601544671198901, Val f1: 0.6904812455177307\n",
            "\n",
            "starting Epoch 3\n",
            "Training...\n",
            "Train loss: 0.6022884600302753\n",
            "Train loss: 0.5989203996518079\n",
            "Train loss: 0.5946700678152197\n",
            "Train loss: 0.5926136278054294\n",
            "Train loss: 0.5902667592553531\n",
            "\n",
            "Evaluating on train...\n",
            "Val loss: 0.5715302930158728, Val f1: 0.7033151984214783\n",
            "Val loss: 0.5703941706348868, Val f1: 0.7048240303993225\n",
            "Val loss: 0.5713517525616814, Val f1: 0.7036328911781311\n",
            "Val loss: 0.570799453293576, Val f1: 0.7042139768600464\n",
            "Val loss: 0.5698151413132163, Val f1: 0.7045601606369019\n",
            "\n",
            "Evaluating on test...\n",
            "Val loss: 0.5724207443349502, Val f1: 0.7023974061012268\n",
            "Val loss: 0.5696414393537185, Val f1: 0.706574559211731\n",
            "Val loss: 0.5697790033677045, Val f1: 0.7049492001533508\n",
            "Val loss: 0.5694549127536661, Val f1: 0.7052919268608093\n",
            "Val loss: 0.5699165463447571, Val f1: 0.704321563243866\n",
            "\n",
            "starting Epoch 4\n",
            "Training...\n",
            "Train loss: 0.5694772495942957\n",
            "Train loss: 0.5672613627770368\n",
            "Train loss: 0.5644288588972652\n",
            "Train loss: 0.5635365387972664\n",
            "Train loss: 0.5613062914680033\n",
            "\n",
            "Evaluating on train...\n",
            "Val loss: 0.5420471745378831, Val f1: 0.7312899231910706\n",
            "Val loss: 0.5446992236025193, Val f1: 0.7282031178474426\n",
            "Val loss: 0.5442820775742624, Val f1: 0.7251439690589905\n",
            "Val loss: 0.544222833479152, Val f1: 0.7263354659080505\n",
            "Val loss: 0.5436002633150886, Val f1: 0.7282025218009949\n",
            "\n",
            "Evaluating on test...\n",
            "Val loss: 0.5458736805354848, Val f1: 0.7259386777877808\n",
            "Val loss: 0.5428281058283413, Val f1: 0.7289750576019287\n",
            "Val loss: 0.5430810135953567, Val f1: 0.7286285758018494\n",
            "Val loss: 0.5425885994644726, Val f1: 0.728913426399231\n",
            "Val loss: 0.5432176856433644, Val f1: 0.7281488180160522\n",
            "\n",
            "starting Epoch 5\n",
            "Training...\n",
            "Train loss: 0.5392400517183191\n",
            "Train loss: 0.5393311889732585\n",
            "Train loss: 0.5374425006847755\n",
            "Train loss: 0.5369496739962522\n",
            "Train loss: 0.5363695719662834\n",
            "\n",
            "Evaluating on train...\n",
            "Val loss: 0.524224530248081, Val f1: 0.7344986796379089\n",
            "Val loss: 0.522005228435292, Val f1: 0.7381077408790588\n",
            "Val loss: 0.5200404518959569, Val f1: 0.7400972247123718\n",
            "Val loss: 0.5199719457065358, Val f1: 0.7395675778388977\n",
            "Val loss: 0.519560810397653, Val f1: 0.7395099997520447\n",
            "\n",
            "Evaluating on test...\n",
            "Val loss: 0.5213540389257318, Val f1: 0.7379667162895203\n",
            "Val loss: 0.5183469486587188, Val f1: 0.7396100163459778\n",
            "Val loss: 0.518841371232388, Val f1: 0.7392212748527527\n",
            "Val loss: 0.5182772747734014, Val f1: 0.7398667335510254\n",
            "Val loss: 0.5189473450183868, Val f1: 0.7397472858428955\n",
            "\n",
            "starting Epoch 6\n",
            "Training...\n",
            "Train loss: 0.520317042575163\n",
            "Train loss: 0.5193303060882232\n",
            "Train loss: 0.5181353986263275\n",
            "Train loss: 0.5145240903777235\n",
            "Train loss: 0.5132742846713346\n",
            "\n",
            "Evaluating on train...\n",
            "Val loss: 0.5000225480865029, Val f1: 0.7548123002052307\n",
            "Val loss: 0.4977523693267037, Val f1: 0.7572081089019775\n",
            "Val loss: 0.49643704996389504, Val f1: 0.7588029503822327\n",
            "Val loss: 0.49691859282114925, Val f1: 0.7582283020019531\n",
            "Val loss: 0.49740172624588014, Val f1: 0.7573806643486023\n",
            "\n",
            "Evaluating on test...\n",
            "Val loss: 0.4990987917956184, Val f1: 0.7550721168518066\n",
            "Val loss: 0.4963367213221157, Val f1: 0.7563954591751099\n",
            "Val loss: 0.4969889369665408, Val f1: 0.7571893334388733\n",
            "Val loss: 0.49631019725519065, Val f1: 0.7574017643928528\n",
            "Val loss: 0.49709909312865314, Val f1: 0.7573939561843872\n",
            "\n",
            "starting Epoch 7\n",
            "Training...\n",
            "Train loss: 0.4959158231230343\n",
            "Train loss: 0.49261342427309823\n",
            "Train loss: 0.49415890258901257\n",
            "Train loss: 0.4930357008295901\n",
            "Train loss: 0.4935863032060511\n",
            "\n",
            "Evaluating on train...\n",
            "Val loss: 0.47821827671107126, Val f1: 0.7803295850753784\n",
            "Val loss: 0.48090021487544565, Val f1: 0.7790620923042297\n",
            "Val loss: 0.48109272940486086, Val f1: 0.779558539390564\n",
            "Val loss: 0.4797069425968563, Val f1: 0.7789151072502136\n",
            "Val loss: 0.48050551274243525, Val f1: 0.7784004807472229\n",
            "\n",
            "Evaluating on test...\n",
            "Val loss: 0.4813649286242092, Val f1: 0.7777133584022522\n",
            "Val loss: 0.47900159919963164, Val f1: 0.7792999148368835\n",
            "Val loss: 0.479779699269463, Val f1: 0.7785641551017761\n",
            "Val loss: 0.47897475870216594, Val f1: 0.7784402370452881\n",
            "Val loss: 0.4799455751391018, Val f1: 0.7782164812088013\n",
            "\n",
            "starting Epoch 8\n",
            "Training...\n",
            "Train loss: 0.48428352790720325\n",
            "Train loss: 0.47881491482257843\n",
            "Train loss: 0.47485331869592856\n",
            "Train loss: 0.47460760658278184\n",
            "Train loss: 0.4756433171384475\n",
            "\n",
            "Evaluating on train...\n",
            "Val loss: 0.4679025306421168, Val f1: 0.7686991095542908\n",
            "Val loss: 0.46315808681880727, Val f1: 0.7719756960868835\n",
            "Val loss: 0.4625361012477501, Val f1: 0.7719389200210571\n",
            "Val loss: 0.4635110054822529, Val f1: 0.7707294225692749\n",
            "Val loss: 0.4639362559599035, Val f1: 0.7698823809623718\n",
            "\n",
            "Evaluating on test...\n",
            "Val loss: 0.4642949717886308, Val f1: 0.7691726088523865\n",
            "Val loss: 0.46220574133536396, Val f1: 0.7685471773147583\n",
            "Val loss: 0.4630417403052835, Val f1: 0.7690091729164124\n",
            "Val loss: 0.4624398398925276, Val f1: 0.7704225182533264\n",
            "Val loss: 0.46318458494018105, Val f1: 0.7703027129173279\n",
            "\n",
            "starting Epoch 9\n",
            "Training...\n",
            "Train loss: 0.4572942765320049\n",
            "Train loss: 0.4598691314458847\n",
            "Train loss: 0.4588684112417932\n",
            "Train loss: 0.4603072716032757\n",
            "Train loss: 0.4589374542236328\n",
            "\n",
            "Evaluating on train...\n",
            "Val loss: 0.44983669063624215, Val f1: 0.7902449369430542\n",
            "Val loss: 0.4439199636964237, Val f1: 0.7941522598266602\n",
            "Val loss: 0.4451786232929604, Val f1: 0.7925886511802673\n",
            "Val loss: 0.44538066448534236, Val f1: 0.7925810217857361\n",
            "Val loss: 0.4457812772077673, Val f1: 0.7921567559242249\n",
            "\n",
            "Evaluating on test...\n",
            "Val loss: 0.44662431583685036, Val f1: 0.7937353253364563\n",
            "Val loss: 0.4446020450662164, Val f1: 0.7928692698478699\n",
            "Val loss: 0.4453686382256302, Val f1: 0.7922720909118652\n",
            "Val loss: 0.4445822721018511, Val f1: 0.7927866578102112\n",
            "Val loss: 0.4455341027063482, Val f1: 0.7920732498168945\n",
            "\n",
            "starting Epoch 10\n",
            "Training...\n",
            "Train loss: 0.44573893967796774\n",
            "Train loss: 0.4463012034402174\n",
            "Train loss: 0.4455984708140878\n",
            "Train loss: 0.4446549498859574\n",
            "Train loss: 0.4448547216022716\n",
            "\n",
            "Evaluating on train...\n",
            "Val loss: 0.4314044468543109, Val f1: 0.7978594899177551\n",
            "Val loss: 0.43161146605716033, Val f1: 0.7993165850639343\n",
            "Val loss: 0.4315430323282878, Val f1: 0.8001654148101807\n",
            "Val loss: 0.43205645811908383, Val f1: 0.7998783588409424\n",
            "Val loss: 0.4316090976490694, Val f1: 0.8014076948165894\n",
            "\n",
            "Evaluating on test...\n",
            "Val loss: 0.4323897098793703, Val f1: 0.8024501204490662\n",
            "Val loss: 0.43047795839169445, Val f1: 0.8025421500205994\n",
            "Val loss: 0.43134116425233726, Val f1: 0.8018894195556641\n",
            "Val loss: 0.43053338282248554, Val f1: 0.8020908236503601\n",
            "Val loss: 0.43148412774590883, Val f1: 0.8014028072357178\n",
            "\n",
            "starting Epoch 11\n",
            "Training...\n",
            "Train loss: 0.4375656089361976\n",
            "Train loss: 0.4363707961405025\n",
            "Train loss: 0.4335273738000907\n",
            "Train loss: 0.43236488060039635\n",
            "Train loss: 0.4325404233792249\n",
            "\n",
            "Evaluating on train...\n",
            "Val loss: 0.41630098398994, Val f1: 0.8092651963233948\n",
            "Val loss: 0.42011187882984385, Val f1: 0.8076856136322021\n",
            "Val loss: 0.4189560091963001, Val f1: 0.8098284602165222\n",
            "Val loss: 0.41965842860586505, Val f1: 0.8098913431167603\n",
            "Val loss: 0.41927463797961967, Val f1: 0.8101704716682434\n",
            "\n",
            "Evaluating on test...\n",
            "Val loss: 0.4197777947958778, Val f1: 0.8096309304237366\n",
            "Val loss: 0.41787516895462484, Val f1: 0.8105497360229492\n",
            "Val loss: 0.4186740318934123, Val f1: 0.8100293874740601\n",
            "Val loss: 0.4177928330267177, Val f1: 0.8106096982955933\n",
            "Val loss: 0.4188251958173864, Val f1: 0.8097564578056335\n",
            "\n",
            "starting Epoch 12\n",
            "Training...\n",
            "Train loss: 0.4267180807450238\n",
            "Train loss: 0.4233938622124055\n",
            "Train loss: 0.4205443695479748\n",
            "Train loss: 0.4187885965494549\n",
            "Train loss: 0.41874844502000247\n",
            "\n",
            "Evaluating on train...\n",
            "Val loss: 0.4097825551734251, Val f1: 0.8156833052635193\n",
            "Val loss: 0.4075510677169351, Val f1: 0.8177276849746704\n",
            "Val loss: 0.4082229470505434, Val f1: 0.8164668083190918\n",
            "Val loss: 0.4068699983112952, Val f1: 0.8167243599891663\n",
            "Val loss: 0.40691664569518143, Val f1: 0.8169994950294495\n",
            "\n",
            "Evaluating on test...\n",
            "Val loss: 0.40754808397854075, Val f1: 0.8160164952278137\n",
            "Val loss: 0.4058691929368412, Val f1: 0.8170555233955383\n",
            "Val loss: 0.406647734782275, Val f1: 0.8166074752807617\n",
            "Val loss: 0.40576401484363217, Val f1: 0.8173651695251465\n",
            "Val loss: 0.4067587722750271, Val f1: 0.8165714144706726\n",
            "\n",
            "starting Epoch 13\n",
            "Training...\n",
            "Train loss: 0.40682924144408283\n",
            "Train loss: 0.40958582741372723\n",
            "Train loss: 0.40749751586540073\n",
            "Train loss: 0.4088030453113949\n",
            "Train loss: 0.40842193189789266\n",
            "\n",
            "Evaluating on train...\n",
            "Val loss: 0.3934570533387801, Val f1: 0.8213898539543152\n",
            "Val loss: 0.39716849081656513, Val f1: 0.8198876976966858\n",
            "Val loss: 0.39503448850968303, Val f1: 0.821943998336792\n",
            "Val loss: 0.3942782212706173, Val f1: 0.8224703669548035\n",
            "Val loss: 0.39515741923276115, Val f1: 0.8220506906509399\n",
            "\n",
            "Evaluating on test...\n",
            "Val loss: 0.39602497921270485, Val f1: 0.8211150765419006\n",
            "Val loss: 0.3944326253498302, Val f1: 0.8216800093650818\n",
            "Val loss: 0.39532266177383124, Val f1: 0.8213210105895996\n",
            "Val loss: 0.39455990580951467, Val f1: 0.8221209049224854\n",
            "Val loss: 0.39552230449283826, Val f1: 0.8214142918586731\n",
            "\n",
            "starting Epoch 14\n",
            "Training...\n",
            "Train loss: 0.39485733824617725\n",
            "Train loss: 0.39574147234944734\n",
            "Train loss: 0.3964831718042785\n",
            "Train loss: 0.3968300065573524\n",
            "Train loss: 0.39623562868903667\n",
            "\n",
            "Evaluating on train...\n",
            "Val loss: 0.3924892439561732, Val f1: 0.8296718597412109\n",
            "Val loss: 0.39175348597414356, Val f1: 0.8315156102180481\n",
            "Val loss: 0.3935655045743082, Val f1: 0.8307285308837891\n",
            "Val loss: 0.39265522930551977, Val f1: 0.8305936455726624\n",
            "Val loss: 0.39165238843244665, Val f1: 0.8303797245025635\n",
            "\n",
            "Evaluating on test...\n",
            "Val loss: 0.3928043684538673, Val f1: 0.8305733799934387\n",
            "Val loss: 0.391111325691728, Val f1: 0.830888032913208\n",
            "Val loss: 0.39201271709273844, Val f1: 0.8299421668052673\n",
            "Val loss: 0.39071578006534013, Val f1: 0.8307976722717285\n",
            "Val loss: 0.3919176620595595, Val f1: 0.8301337957382202\n",
            "\n",
            "starting Epoch 15\n",
            "Training...\n",
            "Train loss: 0.3864537793047288\n",
            "Train loss: 0.38539793561486635\n",
            "Train loss: 0.38840704396659254\n",
            "Train loss: 0.3882554541615879\n",
            "Train loss: 0.3876969863386715\n",
            "\n",
            "Evaluating on train...\n",
            "Val loss: 0.37955061653081107, Val f1: 0.8361844420433044\n",
            "Val loss: 0.37812619174227996, Val f1: 0.8375486135482788\n",
            "Val loss: 0.37729182722521765, Val f1: 0.8376786112785339\n",
            "Val loss: 0.3787204518037684, Val f1: 0.8365399837493896\n",
            "Val loss: 0.37919031206299275, Val f1: 0.8365683555603027\n",
            "\n",
            "Evaluating on test...\n",
            "Val loss: 0.3798890955307904, Val f1: 0.8361189365386963\n",
            "Val loss: 0.3782196597141378, Val f1: 0.8363446593284607\n",
            "Val loss: 0.3790973699560352, Val f1: 0.835985004901886\n",
            "Val loss: 0.3779839294798234, Val f1: 0.8366431593894958\n",
            "Val loss: 0.37913452667348524, Val f1: 0.8358960747718811\n",
            "\n",
            "starting Epoch 16\n",
            "Training...\n",
            "Train loss: 0.36914445196881013\n",
            "Train loss: 0.37371673654107485\n",
            "Train loss: 0.37707865296625626\n",
            "Train loss: 0.37947827402283163\n",
            "Train loss: 0.379727346756879\n",
            "\n",
            "Evaluating on train...\n",
            "Val loss: 0.3674685464185827, Val f1: 0.8415800333023071\n",
            "Val loss: 0.369074730312123, Val f1: 0.8409392237663269\n",
            "Val loss: 0.3704566803632998, Val f1: 0.840474009513855\n",
            "Val loss: 0.3697464505539221, Val f1: 0.8413291573524475\n",
            "Val loss: 0.3693750213174259, Val f1: 0.8412005305290222\n",
            "\n",
            "Evaluating on test...\n",
            "Val loss: 0.3698558088611154, Val f1: 0.8422211408615112\n",
            "Val loss: 0.3681175603586085, Val f1: 0.841709315776825\n",
            "Val loss: 0.36906102533433954, Val f1: 0.8409770727157593\n",
            "Val loss: 0.3679647467592183, Val f1: 0.8415411710739136\n",
            "Val loss: 0.36906954470802755, Val f1: 0.8407506942749023\n",
            "\n",
            "starting Epoch 17\n",
            "Training...\n",
            "Train loss: 0.3695934625232921\n",
            "Train loss: 0.36566894019351287\n",
            "Train loss: 0.367500444837645\n",
            "Train loss: 0.36820276563658433\n",
            "Train loss: 0.36851424715098213\n",
            "\n",
            "Evaluating on train...\n",
            "Val loss: 0.36193007581374226, Val f1: 0.8336844444274902\n",
            "Val loss: 0.36176107911502614, Val f1: 0.8340601325035095\n",
            "Val loss: 0.36257566365541194, Val f1: 0.8341729044914246\n",
            "Val loss: 0.36048753252800775, Val f1: 0.8357093334197998\n",
            "Val loss: 0.360240598636515, Val f1: 0.8358794450759888\n",
            "\n",
            "Evaluating on test...\n",
            "Val loss: 0.36059139931903167, Val f1: 0.8365115523338318\n",
            "Val loss: 0.35900359907571006, Val f1: 0.8356026411056519\n",
            "Val loss: 0.3598952521296108, Val f1: 0.8350032567977905\n",
            "Val loss: 0.35933979162398505, Val f1: 0.8358985781669617\n",
            "Val loss: 0.36015232836498934, Val f1: 0.8356332182884216\n",
            "\n",
            "starting Epoch 18\n",
            "Training...\n",
            "Train loss: 0.35818136790219474\n",
            "Train loss: 0.3611610777237836\n",
            "Train loss: 0.36079780085414065\n",
            "Train loss: 0.3619207757360795\n",
            "Train loss: 0.36086850306567025\n",
            "\n",
            "Evaluating on train...\n",
            "Val loss: 0.34980934683014364, Val f1: 0.8423454165458679\n",
            "Val loss: 0.3493478859172148, Val f1: 0.8408276438713074\n",
            "Val loss: 0.3506830200260761, Val f1: 0.8408770561218262\n",
            "Val loss: 0.35125211056540995, Val f1: 0.840262770652771\n",
            "Val loss: 0.35154141853837406, Val f1: 0.8408378958702087\n",
            "\n",
            "Evaluating on test...\n",
            "Val loss: 0.35218560169724855, Val f1: 0.8406771421432495\n",
            "Val loss: 0.35067834135364084, Val f1: 0.8410007357597351\n",
            "Val loss: 0.3516170142912397, Val f1: 0.8400816917419434\n",
            "Val loss: 0.35114232319242816, Val f1: 0.8409714102745056\n",
            "Val loss: 0.3519902965601753, Val f1: 0.8405534625053406\n",
            "\n",
            "starting Epoch 19\n",
            "Training...\n",
            "Train loss: 0.3512895282577066\n",
            "Train loss: 0.3521602171308854\n",
            "Train loss: 0.3532930799559051\n",
            "Train loss: 0.3519679605960846\n",
            "Train loss: 0.35219697882147394\n",
            "\n",
            "Evaluating on train...\n",
            "Val loss: 0.3431940850089578, Val f1: 0.8508460521697998\n",
            "Val loss: 0.34343362029861, Val f1: 0.8522936105728149\n",
            "Val loss: 0.34194080502379176, Val f1: 0.852648913860321\n",
            "Val loss: 0.34197907588061166, Val f1: 0.8515562415122986\n",
            "Val loss: 0.34213006215937, Val f1: 0.8510813117027283\n",
            "\n",
            "Evaluating on test...\n",
            "Val loss: 0.3418945301981533, Val f1: 0.8521795272827148\n",
            "Val loss: 0.34029898310408874, Val f1: 0.8517960906028748\n",
            "Val loss: 0.3413025240103404, Val f1: 0.8508225083351135\n",
            "Val loss: 0.34056993661557927, Val f1: 0.8515554666519165\n",
            "Val loss: 0.3415154800695531, Val f1: 0.8510560989379883\n"
          ]
        }
      ]
    },
    {
      "cell_type": "code",
      "source": [
        "import matplotlib.pyplot as plt\n",
        "plt.plot(losses)\n",
        "plt.plot(losses_eval)\n",
        "plt.title('BCE loss value')\n",
        "plt.ylabel('BCE loss')\n",
        "plt.xlabel('epoch')\n",
        "plt.legend(['train', 'val'], loc='upper right')\n",
        "plt.show()"
      ],
      "metadata": {
        "id": "aPSgldlhgQla",
        "colab": {
          "base_uri": "https://localhost:8080/",
          "height": 295
        },
        "outputId": "9fae7b54-20fc-4dc7-b454-abba2fcb2ddc"
      },
      "execution_count": 28,
      "outputs": [
        {
          "output_type": "display_data",
          "data": {
            "image/png": "[encoded data removed]",
            "text/plain": [
              "<Figure size 432x288 with 1 Axes>"
            ]
          },
          "metadata": {
            "needs_background": "light"
          }
        }
      ]
    },
    {
      "cell_type": "markdown",
      "source": [
        "хорошо работает, но мы явно обучались недостаточно. Поэтому выбираем очевидное улучшение из области гиперпараметров: увеличим learning rate. Попробуем!"
      ],
      "metadata": {
        "id": "VcLQQFI01yT1"
      }
    },
    {
      "cell_type": "code",
      "source": [
        "model = My_model(len(word2id), len(symbol2id), 100, 8)\n",
        "optimizer = optim.Adam(model.parameters(), lr=0.05)\n",
        "criterion = nn.BCELoss()  \n",
        "\n",
        "model = model.to(device)\n",
        "criterion = criterion.to(device)"
      ],
      "metadata": {
        "id": "8fAXIZHn14Hu"
      },
      "execution_count": 33,
      "outputs": []
    },
    {
      "cell_type": "code",
      "source": [
        "losses = []\n",
        "losses_eval = []\n",
        "f1s = []\n",
        "f1s_eval = []\n",
        "\n",
        "for i in range(20):\n",
        "    print(f'\\nstarting Epoch {i}')\n",
        "    print('Training...')\n",
        "    epoch_loss = train(model, train_iterator, optimizer, criterion)\n",
        "    losses.append(epoch_loss)\n",
        "    print('\\nEvaluating on train...')\n",
        "    f1_on_train,_ = evaluate(model, train_iterator, criterion)\n",
        "    f1s.append(f1_on_train)\n",
        "    print('\\nEvaluating on test...')\n",
        "    f1_on_test, epoch_loss_on_test = evaluate(model, val_iterator, criterion)\n",
        "    losses_eval.append(epoch_loss_on_test)\n",
        "    f1s_eval.append(f1_on_test)"
      ],
      "metadata": {
        "colab": {
          "base_uri": "https://localhost:8080/"
        },
        "id": "q4jgCoJV1_8f",
        "outputId": "1d92bd61-8328-4701-a9aa-6b9101f5a706"
      },
      "execution_count": 34,
      "outputs": [
        {
          "output_type": "stream",
          "name": "stdout",
          "text": [
            "\n",
            "starting Epoch 0\n",
            "Training...\n",
            "Train loss: 14.799325027886558\n",
            "Train loss: 7.787989225457697\n",
            "Train loss: 5.39302856314416\n",
            "Train loss: 4.179273650488433\n",
            "Train loss: 3.448862687629812\n",
            "\n",
            "Evaluating on train...\n",
            "Val loss: 0.4196363126530367, Val f1: 0.8217780590057373\n",
            "Val loss: 0.42051176902125864, Val f1: 0.8214549422264099\n",
            "Val loss: 0.41790415609584136, Val f1: 0.8233989477157593\n",
            "Val loss: 0.4189476787167437, Val f1: 0.8219126462936401\n",
            "Val loss: 0.41852806876687443, Val f1: 0.8222275972366333\n",
            "\n",
            "Evaluating on test...\n",
            "Val loss: 0.41733359238680673, Val f1: 0.8251870274543762\n",
            "Val loss: 0.4165753739721635, Val f1: 0.8242642879486084\n",
            "Val loss: 0.4173564455088447, Val f1: 0.8230541944503784\n",
            "Val loss: 0.4168538056752261, Val f1: 0.8232453465461731\n",
            "Val loss: 0.41829064523472503, Val f1: 0.8222987651824951\n",
            "\n",
            "starting Epoch 1\n",
            "Training...\n",
            "Train loss: 0.4076569956891677\n",
            "Train loss: 0.4082500943366219\n",
            "Train loss: 0.4162032948989494\n",
            "Train loss: 0.4244437695426099\n",
            "Train loss: 0.42742509947103613\n",
            "\n",
            "Evaluating on train...\n",
            "Val loss: 0.32765814486671896, Val f1: 0.8722346425056458\n",
            "Val loss: 0.32760660437976613, Val f1: 0.8713399171829224\n",
            "Val loss: 0.32720258539798214, Val f1: 0.8705986738204956\n",
            "Val loss: 0.32638639518443274, Val f1: 0.8712917566299438\n",
            "Val loss: 0.3268926922012778, Val f1: 0.8711031079292297\n",
            "\n",
            "Evaluating on test...\n",
            "Val loss: 0.32691844421274524, Val f1: 0.8728488683700562\n",
            "Val loss: 0.32523353573154, Val f1: 0.8739038705825806\n",
            "Val loss: 0.3260652609899932, Val f1: 0.872803270816803\n",
            "Val loss: 0.3253241939579739, Val f1: 0.8725792169570923\n",
            "Val loss: 0.3262127655393937, Val f1: 0.8719795942306519\n",
            "\n",
            "starting Epoch 2\n",
            "Training...\n",
            "Train loss: 0.313272600664812\n",
            "Train loss: 0.3129834225949119\n",
            "Train loss: 0.32316742340723675\n",
            "Train loss: 0.3322434377144365\n",
            "Train loss: 0.34047884765793296\n",
            "\n",
            "Evaluating on train...\n",
            "Val loss: 0.24422607702367446, Val f1: 0.906303882598877\n",
            "Val loss: 0.24557555466890335, Val f1: 0.9068949818611145\n",
            "Val loss: 0.24740982902984993, Val f1: 0.9059407711029053\n",
            "Val loss: 0.24678687313023737, Val f1: 0.906204879283905\n",
            "Val loss: 0.2479574185960433, Val f1: 0.9041428565979004\n",
            "\n",
            "Evaluating on test...\n",
            "Val loss: 0.2505974743296118, Val f1: 0.9039778709411621\n",
            "Val loss: 0.24711134854485006, Val f1: 0.9059364199638367\n",
            "Val loss: 0.2483181187919542, Val f1: 0.9049137830734253\n",
            "Val loss: 0.2479199898593566, Val f1: 0.9046334028244019\n",
            "Val loss: 0.24816542846315048, Val f1: 0.9044153094291687\n",
            "\n",
            "starting Epoch 3\n",
            "Training...\n",
            "Train loss: 0.2363010460839552\n",
            "Train loss: 0.2298592508715742\n",
            "Train loss: 0.23537321856208876\n",
            "Train loss: 0.24823890911305652\n",
            "Train loss: 0.2588778174975339\n",
            "\n",
            "Evaluating on train...\n",
            "Val loss: 0.1717460260671728, Val f1: 0.939397931098938\n",
            "Val loss: 0.17241736413801417, Val f1: 0.9368979334831238\n",
            "Val loss: 0.17287250418289035, Val f1: 0.9365441799163818\n",
            "Val loss: 0.17252854520783706, Val f1: 0.9368749260902405\n",
            "Val loss: 0.1721489315523821, Val f1: 0.9370977282524109\n",
            "\n",
            "Evaluating on test...\n",
            "Val loss: 0.17184891157290516, Val f1: 0.9393414258956909\n",
            "Val loss: 0.16967161087428823, Val f1: 0.9391337633132935\n",
            "Val loss: 0.17209068788032905, Val f1: 0.9373214840888977\n",
            "Val loss: 0.1714550283025293, Val f1: 0.9379722476005554\n",
            "Val loss: 0.17217643821940704, Val f1: 0.937413215637207\n",
            "\n",
            "starting Epoch 4\n",
            "Training...\n",
            "Train loss: 0.16259823476566987\n",
            "Train loss: 0.16528308654532714\n",
            "Train loss: 0.17315979418801328\n",
            "Train loss: 0.18062768460196607\n",
            "Train loss: 0.18781680745237014\n",
            "\n",
            "Evaluating on train...\n",
            "Val loss: 0.14444835308720083, Val f1: 0.9454503059387207\n",
            "Val loss: 0.14179562492405667, Val f1: 0.9448525905609131\n",
            "Val loss: 0.14086288856525048, Val f1: 0.9449667930603027\n",
            "Val loss: 0.14065672391477754, Val f1: 0.9452677369117737\n",
            "Val loss: 0.14073751524967307, Val f1: 0.9452559947967529\n",
            "\n",
            "Evaluating on test...\n",
            "Val loss: 0.14126168103779063, Val f1: 0.9458133578300476\n",
            "Val loss: 0.13915258843232603, Val f1: 0.9460516571998596\n",
            "Val loss: 0.14091811679741917, Val f1: 0.9453255534172058\n",
            "Val loss: 0.14117228524649844, Val f1: 0.9453497529029846\n",
            "Val loss: 0.14132920810404945, Val f1: 0.9448646903038025\n",
            "\n",
            "starting Epoch 5\n",
            "Training...\n",
            "Train loss: 0.134860057164641\n",
            "Train loss: 0.12730638288399754\n",
            "Train loss: 0.12825641152905484\n",
            "Train loss: 0.13585707041270592\n",
            "Train loss: 0.14110499690560735\n",
            "\n",
            "Evaluating on train...\n",
            "Val loss: 0.08461789085584528, Val f1: 0.970099151134491\n",
            "Val loss: 0.08576330104294945, Val f1: 0.9702008366584778\n",
            "Val loss: 0.0854621243243124, Val f1: 0.9705255031585693\n",
            "Val loss: 0.0860303364255849, Val f1: 0.9707465767860413\n",
            "Val loss: 0.08557926828370374, Val f1: 0.9709374904632568\n",
            "\n",
            "Evaluating on test...\n",
            "Val loss: 0.08378501718535143, Val f1: 0.97159743309021\n",
            "Val loss: 0.0839020162820816, Val f1: 0.971807599067688\n",
            "Val loss: 0.08594121813189749, Val f1: 0.9709928631782532\n",
            "Val loss: 0.08570775214363546, Val f1: 0.9708750247955322\n",
            "Val loss: 0.08549149772700142, Val f1: 0.9710790514945984\n",
            "\n",
            "starting Epoch 6\n",
            "Training...\n",
            "Train loss: 0.08794466274626114\n",
            "Train loss: 0.0905574847231893\n",
            "Train loss: 0.0939569001396497\n",
            "Train loss: 0.09721443561070106\n",
            "Train loss: 0.10127425009713453\n",
            "\n",
            "Evaluating on train...\n",
            "Val loss: 0.08739868266617551, Val f1: 0.9662221074104309\n",
            "Val loss: 0.08909104424802695, Val f1: 0.9660983681678772\n",
            "Val loss: 0.0884628114016617, Val f1: 0.9661806225776672\n",
            "Val loss: 0.0867192932021092, Val f1: 0.9671748876571655\n",
            "Val loss: 0.08704826389165486, Val f1: 0.9672877788543701\n",
            "\n",
            "Evaluating on test...\n",
            "Val loss: 0.09003784595166936, Val f1: 0.9661968350410461\n",
            "Val loss: 0.08542504205423243, Val f1: 0.9679211974143982\n",
            "Val loss: 0.08732199493576498, Val f1: 0.966759204864502\n",
            "Val loss: 0.08677667861475664, Val f1: 0.9670771360397339\n",
            "Val loss: 0.08679015171878478, Val f1: 0.9672377109527588\n",
            "\n",
            "starting Epoch 7\n",
            "Training...\n",
            "Train loss: 0.07408618094290004\n",
            "Train loss: 0.07295706068329952\n",
            "Train loss: 0.07315258952040299\n",
            "Train loss: 0.07516066406798713\n",
            "Train loss: 0.08043099225443952\n",
            "\n",
            "Evaluating on train...\n",
            "Val loss: 0.04962035662987653, Val f1: 0.983282208442688\n",
            "Val loss: 0.05018747203490313, Val f1: 0.9836469292640686\n",
            "Val loss: 0.050564954239948126, Val f1: 0.9830623269081116\n",
            "Val loss: 0.05005814469255069, Val f1: 0.9832330346107483\n",
            "Val loss: 0.048995811952387586, Val f1: 0.9835387468338013\n",
            "\n",
            "Evaluating on test...\n",
            "Val loss: 0.04876211548552794, Val f1: 0.9836358428001404\n",
            "Val loss: 0.04840815708260326, Val f1: 0.983773946762085\n",
            "Val loss: 0.048991292751595084, Val f1: 0.9834989309310913\n",
            "Val loss: 0.049036458709879834, Val f1: 0.9835220575332642\n",
            "Val loss: 0.04904774845961262, Val f1: 0.9832062721252441\n",
            "\n",
            "starting Epoch 8\n",
            "Training...\n",
            "Train loss: 0.05404950349646456\n",
            "Train loss: 0.056729241876917726\n",
            "Train loss: 0.058482577330341526\n",
            "Train loss: 0.06444043156636112\n",
            "Train loss: 0.06662504975410069\n",
            "\n",
            "Evaluating on train...\n",
            "Val loss: 0.04096133623491315, Val f1: 0.9845407009124756\n",
            "Val loss: 0.041772136026445555, Val f1: 0.9847972989082336\n",
            "Val loss: 0.04177030300100645, Val f1: 0.985123336315155\n",
            "Val loss: 0.04146288740722572, Val f1: 0.985357403755188\n",
            "Val loss: 0.04136557723669445, Val f1: 0.9852257370948792\n",
            "\n",
            "Evaluating on test...\n",
            "Val loss: 0.04358731034924002, Val f1: 0.9837921261787415\n",
            "Val loss: 0.041137449662475026, Val f1: 0.9855319857597351\n",
            "Val loss: 0.04194243719764784, Val f1: 0.9853707551956177\n",
            "Val loss: 0.041975955780157274, Val f1: 0.9852426052093506\n",
            "Val loss: 0.04139046669006348, Val f1: 0.9854579567909241\n",
            "\n",
            "starting Epoch 9\n",
            "Training...\n",
            "Train loss: 0.045969942475066465\n",
            "Train loss: 0.047006531235049755\n",
            "Train loss: 0.05013862566328516\n",
            "Train loss: 0.05366032751386657\n",
            "Train loss: 0.05565312513533761\n",
            "\n",
            "Evaluating on train...\n",
            "Val loss: 0.03869167463306118, Val f1: 0.9868103265762329\n",
            "Val loss: 0.03602967542760512, Val f1: 0.9872384667396545\n",
            "Val loss: 0.036038200937065425, Val f1: 0.9874075651168823\n",
            "Val loss: 0.0364252514041522, Val f1: 0.9870398044586182\n",
            "Val loss: 0.03634875353206606, Val f1: 0.9871529340744019\n",
            "\n",
            "Evaluating on test...\n",
            "Val loss: 0.03742358636330156, Val f1: 0.9874849915504456\n",
            "Val loss: 0.035754142876933605, Val f1: 0.9879152774810791\n",
            "Val loss: 0.0364499472300796, Val f1: 0.987382709980011\n",
            "Val loss: 0.03643947889042251, Val f1: 0.9872028231620789\n",
            "Val loss: 0.03661919556119863, Val f1: 0.9870167374610901\n",
            "\n",
            "starting Epoch 10\n",
            "Training...\n",
            "Train loss: 0.04303580434883342\n",
            "Train loss: 0.045088947038440144\n",
            "Train loss: 0.048810935560979096\n",
            "Train loss: 0.05309134069830179\n",
            "Train loss: 0.05723938854301677\n",
            "\n",
            "Evaluating on train...\n",
            "Val loss: 0.04105735515408656, Val f1: 0.9858691096305847\n",
            "Val loss: 0.04302941826993928, Val f1: 0.984865665435791\n",
            "Val loss: 0.04214485891747708, Val f1: 0.9848330020904541\n",
            "Val loss: 0.041404784465318215, Val f1: 0.984935998916626\n",
            "Val loss: 0.04110750766361461, Val f1: 0.9849352836608887\n",
            "\n",
            "Evaluating on test...\n",
            "Val loss: 0.03898600675165653, Val f1: 0.9857712984085083\n",
            "Val loss: 0.03982665888307726, Val f1: 0.9854456782341003\n",
            "Val loss: 0.04056702853710044, Val f1: 0.985287070274353\n",
            "Val loss: 0.0413380194838871, Val f1: 0.9850555062294006\n",
            "Val loss: 0.04150194633094703, Val f1: 0.9849201440811157\n",
            "\n",
            "starting Epoch 11\n",
            "Training...\n",
            "Train loss: 0.044893860159551394\n",
            "Train loss: 0.047631749335457295\n",
            "Train loss: 0.05030801286007844\n",
            "Train loss: 0.055177734014304244\n",
            "Train loss: 0.057404056629713845\n",
            "\n",
            "Evaluating on train...\n",
            "Val loss: 0.039714774883845276, Val f1: 0.985525906085968\n",
            "Val loss: 0.036786144873236906, Val f1: 0.9866563081741333\n",
            "Val loss: 0.03737802409073886, Val f1: 0.9866631627082825\n",
            "Val loss: 0.037053455735611564, Val f1: 0.9867886900901794\n",
            "Val loss: 0.03668347739559762, Val f1: 0.9869999885559082\n",
            "\n",
            "Evaluating on test...\n",
            "Val loss: 0.03676618942443062, Val f1: 0.986819326877594\n",
            "Val loss: 0.03543595903936554, Val f1: 0.9874062538146973\n",
            "Val loss: 0.036889391458209825, Val f1: 0.9867411255836487\n",
            "Val loss: 0.03689155042828882, Val f1: 0.9867463111877441\n",
            "Val loss: 0.03667384819949374, Val f1: 0.9869222640991211\n",
            "\n",
            "starting Epoch 12\n",
            "Training...\n",
            "Train loss: 0.03749537270735292\n",
            "Train loss: 0.04164846909835058\n",
            "Train loss: 0.04403328537648799\n",
            "Train loss: 0.06156120175386176\n",
            "Train loss: 0.1094755058779436\n",
            "\n",
            "Evaluating on train...\n",
            "Val loss: 0.1682434117092806, Val f1: 0.9549781680107117\n",
            "Val loss: 0.1671557991820223, Val f1: 0.954437792301178\n",
            "Val loss: 0.16272567037273855, Val f1: 0.955489993095398\n",
            "Val loss: 0.16361215688726483, Val f1: 0.9549503326416016\n",
            "Val loss: 0.16269415634519913, Val f1: 0.9548321962356567\n",
            "\n",
            "Evaluating on test...\n",
            "Val loss: 0.15493777569602518, Val f1: 0.9565085172653198\n",
            "Val loss: 0.16005191995817072, Val f1: 0.9555478692054749\n",
            "Val loss: 0.16239781093363667, Val f1: 0.9547083377838135\n",
            "Val loss: 0.16227596932474306, Val f1: 0.9548293948173523\n",
            "Val loss: 0.16368827960070442, Val f1: 0.9546467065811157\n",
            "\n",
            "starting Epoch 13\n",
            "Training...\n",
            "Train loss: 0.1391953961814151\n",
            "Train loss: 0.15256081039414687\n",
            "Train loss: 0.1429582596117375\n",
            "Train loss: 0.13878423391896136\n",
            "Train loss: 0.13465647855225732\n",
            "\n",
            "Evaluating on train...\n",
            "Val loss: 0.04984070273006663, Val f1: 0.9815338253974915\n",
            "Val loss: 0.049222186591257065, Val f1: 0.9814634919166565\n",
            "Val loss: 0.05150722175398294, Val f1: 0.98082435131073\n",
            "Val loss: 0.05209731494131334, Val f1: 0.9805904626846313\n",
            "Val loss: 0.05200238751576227, Val f1: 0.9805526733398438\n",
            "\n",
            "Evaluating on test...\n",
            "Val loss: 0.05277934210265384, Val f1: 0.979952335357666\n",
            "Val loss: 0.04989788111518411, Val f1: 0.9815947413444519\n",
            "Val loss: 0.05169397125057146, Val f1: 0.9809616208076477\n",
            "Val loss: 0.05207015513716375, Val f1: 0.9806550145149231\n",
            "Val loss: 0.05237161854610724, Val f1: 0.9807135462760925\n",
            "\n",
            "starting Epoch 14\n",
            "Training...\n",
            "Train loss: 0.0575010230874314\n",
            "Train loss: 0.057675943764693594\n",
            "Train loss: 0.055440957128417255\n",
            "Train loss: 0.05484546781243647\n",
            "Train loss: 0.05559180812800632\n",
            "\n",
            "Evaluating on train...\n",
            "Val loss: 0.02758835442364216, Val f1: 0.9895451664924622\n",
            "Val loss: 0.026560837457723478, Val f1: 0.9901332855224609\n",
            "Val loss: 0.025981465244994444, Val f1: 0.9903034567832947\n",
            "Val loss: 0.025380199364222148, Val f1: 0.9909102320671082\n",
            "Val loss: 0.025503204543800916, Val f1: 0.9908795952796936\n",
            "\n",
            "Evaluating on test...\n",
            "Val loss: 0.025628264226457653, Val f1: 0.9913580417633057\n",
            "Val loss: 0.024686363224378404, Val f1: 0.9912253022193909\n",
            "Val loss: 0.025501249668498833, Val f1: 0.9910649657249451\n",
            "Val loss: 0.02569033219205106, Val f1: 0.9908429384231567\n",
            "Val loss: 0.025481529884478625, Val f1: 0.9909571409225464\n",
            "\n",
            "starting Epoch 15\n",
            "Training...\n",
            "Train loss: 0.02975026156534167\n",
            "Train loss: 0.02674299541532117\n",
            "Train loss: 0.02756887632330843\n",
            "Train loss: 0.02935046673861935\n",
            "Train loss: 0.030356191131560243\n",
            "\n",
            "Evaluating on train...\n",
            "Val loss: 0.019153541282695884, Val f1: 0.9941743016242981\n",
            "Val loss: 0.019463023992584032, Val f1: 0.9938421845436096\n",
            "Val loss: 0.019387548241545174, Val f1: 0.9937990307807922\n",
            "Val loss: 0.018442415139254403, Val f1: 0.9939807653427124\n",
            "Val loss: 0.018147707171738147, Val f1: 0.9940117597579956\n",
            "\n",
            "Evaluating on test...\n",
            "Val loss: 0.01777707741541021, Val f1: 0.9951737523078918\n",
            "Val loss: 0.01747705987380708, Val f1: 0.9948533177375793\n",
            "Val loss: 0.01818905277725528, Val f1: 0.9943378567695618\n",
            "Val loss: 0.018314214395906997, Val f1: 0.9940462708473206\n",
            "Val loss: 0.018230955138364258, Val f1: 0.9940966367721558\n",
            "\n",
            "starting Epoch 16\n",
            "Training...\n",
            "Train loss: 0.01814894624711836\n",
            "Train loss: 0.018927456482368356\n",
            "Train loss: 0.019990083524117283\n",
            "Train loss: 0.02067103869665195\n",
            "Train loss: 0.021356092919321622\n",
            "\n",
            "Evaluating on train...\n",
            "Val loss: 0.012958150220048778, Val f1: 0.9952922463417053\n",
            "Val loss: 0.01479655849363874, Val f1: 0.9947952032089233\n",
            "Val loss: 0.01439868578431653, Val f1: 0.9948267936706543\n",
            "Val loss: 0.014066932832493502, Val f1: 0.9950991272926331\n",
            "Val loss: 0.013973396654952975, Val f1: 0.995243489742279\n",
            "\n",
            "Evaluating on test...\n",
            "Val loss: 0.013411368298179963, Val f1: 0.9952767491340637\n",
            "Val loss: 0.013308664783835411, Val f1: 0.9953598976135254\n",
            "Val loss: 0.014105151754383947, Val f1: 0.9952182173728943\n",
            "Val loss: 0.014363096342148149, Val f1: 0.9950323700904846\n",
            "Val loss: 0.014058810406747986, Val f1: 0.9951391220092773\n",
            "\n",
            "starting Epoch 17\n",
            "Training...\n",
            "Train loss: 0.01783513748908744\n",
            "Train loss: 0.018170645131784326\n",
            "Train loss: 0.01757555924282939\n",
            "Train loss: 0.018383238231763244\n",
            "Train loss: 0.019202051235034184\n",
            "\n",
            "Evaluating on train...\n",
            "Val loss: 0.012904715669505736, Val f1: 0.9957294464111328\n",
            "Val loss: 0.012482548242106158, Val f1: 0.9958052039146423\n",
            "Val loss: 0.012805458203907692, Val f1: 0.9956294894218445\n",
            "Val loss: 0.01283563463263871, Val f1: 0.9955891966819763\n",
            "Val loss: 0.01249983198940754, Val f1: 0.9957037568092346\n",
            "\n",
            "Evaluating on test...\n",
            "Val loss: 0.01192821200717898, Val f1: 0.9954854249954224\n",
            "Val loss: 0.011863125310115078, Val f1: 0.9956938624382019\n",
            "Val loss: 0.012266746831729132, Val f1: 0.9956566095352173\n",
            "Val loss: 0.01228677826550077, Val f1: 0.9957167506217957\n",
            "Val loss: 0.012558150773539263, Val f1: 0.9956398606300354\n",
            "\n",
            "starting Epoch 18\n",
            "Training...\n",
            "Train loss: 0.014335164060706602\n",
            "Train loss: 0.014967952101655742\n",
            "Train loss: 0.01605737489629902\n",
            "Train loss: 0.017027709503000713\n",
            "Train loss: 0.017998067437506773\n",
            "\n",
            "Evaluating on train...\n",
            "Val loss: 0.01188018572900225, Val f1: 0.9955015778541565\n",
            "Val loss: 0.015622890390017453, Val f1: 0.9951497316360474\n",
            "Val loss: 0.015086168277205205, Val f1: 0.99495530128479\n",
            "Val loss: 0.014318030382342199, Val f1: 0.9951916933059692\n",
            "Val loss: 0.01386603714679094, Val f1: 0.9953159093856812\n",
            "\n",
            "Evaluating on test...\n",
            "Val loss: 0.012535980628693806, Val f1: 0.9950507879257202\n",
            "Val loss: 0.01259428251753835, Val f1: 0.9953433871269226\n",
            "Val loss: 0.012839976762074466, Val f1: 0.9952906966209412\n",
            "Val loss: 0.012776048949864857, Val f1: 0.9953323006629944\n",
            "Val loss: 0.01389939682010342, Val f1: 0.9952968955039978\n",
            "\n",
            "starting Epoch 19\n",
            "Training...\n",
            "Train loss: 0.01566746589892051\n",
            "Train loss: 0.015201224041554858\n",
            "Train loss: 0.015175128191271248\n",
            "Train loss: 0.015865552204880205\n",
            "Train loss: 0.01745223141658832\n",
            "\n",
            "Evaluating on train...\n",
            "Val loss: 0.01814738367958104, Val f1: 0.9955717921257019\n",
            "Val loss: 0.014106325216262657, Val f1: 0.9960274696350098\n",
            "Val loss: 0.01343980348468119, Val f1: 0.9958450198173523\n",
            "Val loss: 0.012720867190236115, Val f1: 0.9958933591842651\n",
            "Val loss: 0.012220858546960003, Val f1: 0.9958662986755371\n",
            "\n",
            "Evaluating on test...\n",
            "Val loss: 0.011843898799270391, Val f1: 0.9953506588935852\n",
            "Val loss: 0.011058997342308216, Val f1: 0.9960505366325378\n",
            "Val loss: 0.01117640915874611, Val f1: 0.9959221482276917\n",
            "Val loss: 0.011269083359580049, Val f1: 0.9958896636962891\n",
            "Val loss: 0.012175303015529233, Val f1: 0.9959126114845276\n"
          ]
        }
      ]
    },
    {
      "cell_type": "code",
      "source": [
        "import matplotlib.pyplot as plt\n",
        "plt.plot(losses)\n",
        "plt.plot(losses_eval)\n",
        "plt.title('BCE loss value')\n",
        "plt.ylabel('BCE loss')\n",
        "plt.xlabel('epoch')\n",
        "plt.legend(['train', 'val'], loc='upper right')\n",
        "plt.show()"
      ],
      "metadata": {
        "colab": {
          "base_uri": "https://localhost:8080/",
          "height": 295
        },
        "id": "izI5cm6Q4q8R",
        "outputId": "342106d0-9664-4ee5-a416-31e50dae3bd6"
      },
      "execution_count": 35,
      "outputs": [
        {
          "output_type": "display_data",
          "data": {
            "image/png": "[encoded data removed]",
            "text/plain": [
              "<Figure size 432x288 with 1 Axes>"
            ]
          },
          "metadata": {
            "needs_background": "light"
          }
        }
      ]
    },
    {
      "cell_type": "markdown",
      "source": [
        "это работает потрясающе."
      ],
      "metadata": {
        "id": "LG2xDOlw0g_Y"
      }
    },
    {
      "cell_type": "markdown",
      "source": [
        "Попробуем поанализировать\n",
        "\n"
      ],
      "metadata": {
        "id": "S7cjxbx07X6e"
      }
    },
    {
      "cell_type": "code",
      "source": [
        "def predict(model, iterator):\n",
        "    model.eval()\n",
        "    fp = []\n",
        "    fn = []\n",
        "    tp = [] \n",
        "    tn = []\n",
        "    with torch.no_grad():\n",
        "        for i, (texts, symbs, ys) in enumerate(iterator):   \n",
        "            preds = model(texts, symbs) \n",
        "            for pred, gold, text, symb in zip(preds, ys, texts, symbs):\n",
        "              text = ' '.join([id2word[int(symbol)] for symbol in text if symbol !=0])\n",
        "              if round(pred.item()) > gold:\n",
        "                fp.append(text)\n",
        "              elif round(pred.item()) < gold:\n",
        "                fn.append(text)\n",
        "              elif round(pred.item()) == gold == 1:\n",
        "                tp.append(text)\n",
        "              elif round(pred.item()) == gold == 0:\n",
        "                tn.append(text)\n",
        "    return fp, fn, tp, tn"
      ],
      "metadata": {
        "id": "SxV1QyqG9WNm"
      },
      "execution_count": 61,
      "outputs": []
    },
    {
      "cell_type": "code",
      "source": [
        "fp, fn, tp, tn = predict(model, val_iterator)"
      ],
      "metadata": {
        "id": "wQg_4_Op7twT"
      },
      "execution_count": 62,
      "outputs": []
    },
    {
      "cell_type": "code",
      "source": [
        "print('true positive: ', tp[:25])"
      ],
      "metadata": {
        "colab": {
          "base_uri": "https://localhost:8080/"
        },
        "id": "R4c4-Pk4Fr5n",
        "outputId": "c08d1f69-94ab-449a-c035-db433a9a9c42"
      },
      "execution_count": 64,
      "outputs": [
        {
          "output_type": "stream",
          "name": "stdout",
          "text": [
            "true positive:  ['de_nativo будем считать что красные яблочки и что-то там ещё уважения цветам деда мороза', 'в том что это может быть я не в одиночестве', 'sassy_lolz да ведь не за что это просто мнение мое', 'только похоже я одна его буду пить потому что лера за зож а у оли парень и печень', 'ахаха саша блин как всегда просто иди нахуй это вечное', 'sport_by если команда так им выходные без даши', 'ну ты-то меня понимаешь знаю я как ты любишь жрать', 'даже и не знаю,что лучше жить с тобой или жить дома можно ведь дома с тобой d', 'планы на неделю в форму курсач делать новый кубок с личной жизнью сдохнуть', 'usastupidd воть про майдан', 'и для эффекта сразу серию после 6-й', 'и кстати в борьбе за русь', 'ахах сейчас меня моя физручка тогда будет должна вам', 'русская версия про выглядит всё-таки', 'с утра завтра сделаю математику схожу в ванную и в школоло на третий урок', 'meetprettyshit классно с я буду очень ждать это письмецо', 'от скуки превращаюсь в твит в секунду но твой рекорд никому не побить', 'а сейчас я очень устала так что пора идти спааать', 'так здорово вика с питера уже получила мой новогодний подарок делать приятное людям особенно очень круто', 'мне шоколадку ради тебя выложила я ем ее она нереально вкусная', 'оооо мне еще столько надо просмотреть', 'євромайдан историю было бы было бы украины', 'в топе на жуйце ненависть к онеме вах мир меняецо', 'rt друзья летит из во владивосток в ближайшее время за ретвит', 'в у директора забрал почистил пиздец всему теперь меня не ищите']\n"
          ]
        }
      ]
    },
    {
      "cell_type": "code",
      "source": [
        "print('ошибочно не относим к позитивным:', fn[:25])"
      ],
      "metadata": {
        "colab": {
          "base_uri": "https://localhost:8080/"
        },
        "id": "kKEq7XyL8XX5",
        "outputId": "bec2b515-39e9-4857-e71f-33d295aae930"
      },
      "execution_count": 63,
      "outputs": [
        {
          "output_type": "stream",
          "name": "stdout",
          "text": [
            "ошибочно не относим к позитивным: ['ты только что пришла в школу сколько можно', 'ахахаха я долго не мог потом понял дело в', 'а вообще я кажется купила все для нового года и это такое облегчение', 'а что с', 'люблю спать', 'ааа это реально ужасный момент был я то думала ты 2 часть смотришь', 'у нас тут тоже новогоднее настроение', 'ты его не могу ж его', 'и не', 'ахаха я свой ответ и поняла что тоже ничего не', 'я ну', 'а вот и нет один раз и все', 'я не а', 'но всегда и', 'а я вообще на тебя', 'зато они там совсем дождаться фото', 'в школе надо по поем', 'вряд ли меня когда-нибудь лучше', 'ну это а у меня', 'мне уже тоже', 'это было так не похоже на него teamfollowback', 'rt не', 'rt хочу нг в школе много как это все', 'я тоже', 'завтра еду на по немного а пока всем во']\n"
          ]
        }
      ]
    },
    {
      "cell_type": "code",
      "source": [
        "print('ошибочно считаем позитивными:', fp[:25])"
      ],
      "metadata": {
        "colab": {
          "base_uri": "https://localhost:8080/"
        },
        "id": "RYVlSbtL8ihn",
        "outputId": "45807a26-dd0f-41ab-da9c-e460511ab7df"
      },
      "execution_count": 53,
      "outputs": [
        {
          "output_type": "stream",
          "name": "stdout",
          "text": [
            "ошибочно считаем позитивными: ['rt ну', 'пока ты ее не получишь я не', '', 'спасибо', 'короче второй урок я уже пойду на третий не хочу идти вообще', 'а мне есть куда но папа сказал что даже не подумает мне его купить', 'rt же', '', 'доброе утро где ты', 'не хочу тебя', '', 'rt ты', 'один раз и я почти с нее', 'с ним', 'утро начинается не с кофе', 'rt со', 'ахаха ты бы видела кто мне это', '', 'rt', 'rt', 'а может вас как', '', 'и', 'желание на новый год', '']\n"
          ]
        }
      ]
    },
    {
      "cell_type": "markdown",
      "source": [
        "Многие из этих твитов короткие, или непонятные, или как будто не целые. В целом, я бы сама испытывала трудности их оценить))"
      ],
      "metadata": {
        "id": "4WPCosYNF4eu"
      }
    }
  ]
}